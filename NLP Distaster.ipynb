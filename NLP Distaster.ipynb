{
 "cells": [
  {
   "cell_type": "code",
   "execution_count": 41,
   "id": "b44fb9ff-3e99-42a8-98d8-cfe143a2d36a",
   "metadata": {},
   "outputs": [],
   "source": [
    "import numpy as np\n",
    "import pandas as pd\n",
    "import seaborn as sns\n",
    "import sklearn\n",
    "import matplotlib.pyplot as plt\n",
    "\n",
    "import tensorflow as tf\n",
    "from tensorflow.keras.models import Sequential\n",
    "from tensorflow.keras.layers import Embedding, LSTM, Dense, Dropout, Bidirectional\n",
    "from tensorflow.keras.optimizers import Adam"
   ]
  },
  {
   "cell_type": "markdown",
   "id": "e6d11f3c-8f8f-4fe0-8f33-f775048bc600",
   "metadata": {},
   "source": [
    "### Week 4: NLP with Disaster Tweets"
   ]
  },
  {
   "cell_type": "markdown",
   "id": "7e96c203-4929-42fa-be31-499781b2af83",
   "metadata": {},
   "source": [
    "#### Problem\n",
    "This project will be looking at various Tweets from the social media platform Twitter/X, and building a Natural Language Processing Model to identify whether a tweet is indicating a disaster occurence or not. This project will use data from https://www.kaggle.com/c/nlp-getting-started/overview, using training data labeled with text, keywords, location, and whether or not it's a real disaster or not."
   ]
  },
  {
   "cell_type": "markdown",
   "id": "a29779fb-ebde-4499-ade6-c9962bb099a1",
   "metadata": {},
   "source": [
    "#### EDA\n",
    "First starting out by importing the CSVs and taking a look at the training data. I'll import all columns as strings so I don't need to convert them later."
   ]
  },
  {
   "cell_type": "code",
   "execution_count": 98,
   "id": "eafa63d3-fbbd-4840-b627-b43d35a7c6a5",
   "metadata": {},
   "outputs": [
    {
     "name": "stdout",
     "output_type": "stream",
     "text": [
      "<class 'pandas.core.frame.DataFrame'>\n",
      "RangeIndex: 7613 entries, 0 to 7612\n",
      "Data columns (total 5 columns):\n",
      " #   Column    Non-Null Count  Dtype \n",
      "---  ------    --------------  ----- \n",
      " 0   id        7613 non-null   int64 \n",
      " 1   keyword   7552 non-null   object\n",
      " 2   location  5080 non-null   object\n",
      " 3   text      7613 non-null   object\n",
      " 4   target    7613 non-null   int64 \n",
      "dtypes: int64(2), object(3)\n",
      "memory usage: 297.5+ KB\n",
      "None\n",
      "Columns:  Index(['id', 'keyword', 'location', 'text', 'target'], dtype='object')\n",
      "Training data shape:  (7613, 5)\n"
     ]
    },
    {
     "data": {
      "text/html": [
       "<div>\n",
       "<style scoped>\n",
       "    .dataframe tbody tr th:only-of-type {\n",
       "        vertical-align: middle;\n",
       "    }\n",
       "\n",
       "    .dataframe tbody tr th {\n",
       "        vertical-align: top;\n",
       "    }\n",
       "\n",
       "    .dataframe thead th {\n",
       "        text-align: right;\n",
       "    }\n",
       "</style>\n",
       "<table border=\"1\" class=\"dataframe\">\n",
       "  <thead>\n",
       "    <tr style=\"text-align: right;\">\n",
       "      <th></th>\n",
       "      <th>id</th>\n",
       "      <th>keyword</th>\n",
       "      <th>location</th>\n",
       "      <th>text</th>\n",
       "      <th>target</th>\n",
       "    </tr>\n",
       "  </thead>\n",
       "  <tbody>\n",
       "    <tr>\n",
       "      <th>0</th>\n",
       "      <td>1</td>\n",
       "      <td>NaN</td>\n",
       "      <td>NaN</td>\n",
       "      <td>Our Deeds are the Reason of this #earthquake M...</td>\n",
       "      <td>1</td>\n",
       "    </tr>\n",
       "    <tr>\n",
       "      <th>1</th>\n",
       "      <td>4</td>\n",
       "      <td>NaN</td>\n",
       "      <td>NaN</td>\n",
       "      <td>Forest fire near La Ronge Sask. Canada</td>\n",
       "      <td>1</td>\n",
       "    </tr>\n",
       "    <tr>\n",
       "      <th>2</th>\n",
       "      <td>5</td>\n",
       "      <td>NaN</td>\n",
       "      <td>NaN</td>\n",
       "      <td>All residents asked to 'shelter in place' are ...</td>\n",
       "      <td>1</td>\n",
       "    </tr>\n",
       "    <tr>\n",
       "      <th>3</th>\n",
       "      <td>6</td>\n",
       "      <td>NaN</td>\n",
       "      <td>NaN</td>\n",
       "      <td>13,000 people receive #wildfires evacuation or...</td>\n",
       "      <td>1</td>\n",
       "    </tr>\n",
       "    <tr>\n",
       "      <th>4</th>\n",
       "      <td>7</td>\n",
       "      <td>NaN</td>\n",
       "      <td>NaN</td>\n",
       "      <td>Just got sent this photo from Ruby #Alaska as ...</td>\n",
       "      <td>1</td>\n",
       "    </tr>\n",
       "  </tbody>\n",
       "</table>\n",
       "</div>"
      ],
      "text/plain": [
       "   id keyword location                                               text  \\\n",
       "0   1     NaN      NaN  Our Deeds are the Reason of this #earthquake M...   \n",
       "1   4     NaN      NaN             Forest fire near La Ronge Sask. Canada   \n",
       "2   5     NaN      NaN  All residents asked to 'shelter in place' are ...   \n",
       "3   6     NaN      NaN  13,000 people receive #wildfires evacuation or...   \n",
       "4   7     NaN      NaN  Just got sent this photo from Ruby #Alaska as ...   \n",
       "\n",
       "   target  \n",
       "0       1  \n",
       "1       1  \n",
       "2       1  \n",
       "3       1  \n",
       "4       1  "
      ]
     },
     "execution_count": 98,
     "metadata": {},
     "output_type": "execute_result"
    }
   ],
   "source": [
    "train_df = pd.read_csv('nlp-getting-started/train.csv')\n",
    "test_df = pd.read_csv('nlp-getting-started/test.csv')\n",
    "submit_df = pd.read_csv('nlp-getting-started/sample_submission.csv')\n",
    "\n",
    "print(train_df.info())\n",
    "print(\"Columns: \", train_df.columns)\n",
    "print(\"Training data shape: \", train_df.shape)\n",
    "train_df.head()"
   ]
  },
  {
   "cell_type": "markdown",
   "id": "df11a852-aa00-49e7-9323-33ea5ad3ce88",
   "metadata": {},
   "source": [
    "Looking at the data from train_df.info(), there's 7613 total entries with 5 columns in the data set, but 2533 of them are missing location data, and 61 of them are missing keywords. \n",
    "\n",
    "Looking at the test data, missing location/keyword data is a regular occurence, so I'll likely want to keep entries with missing info during training still, but I'll fill in the null values with the empty string '' so it doesn't cause issues later."
   ]
  },
  {
   "cell_type": "code",
   "execution_count": 95,
   "id": "e09aaccc-8e58-4ccf-923e-69a88191df2f",
   "metadata": {},
   "outputs": [
    {
     "name": "stdout",
     "output_type": "stream",
     "text": [
      "<class 'pandas.core.frame.DataFrame'>\n",
      "RangeIndex: 3263 entries, 0 to 3262\n",
      "Data columns (total 4 columns):\n",
      " #   Column    Non-Null Count  Dtype \n",
      "---  ------    --------------  ----- \n",
      " 0   id        3263 non-null   int64 \n",
      " 1   keyword   3237 non-null   object\n",
      " 2   location  2158 non-null   object\n",
      " 3   text      3263 non-null   object\n",
      "dtypes: int64(1), object(3)\n",
      "memory usage: 102.1+ KB\n",
      "None\n"
     ]
    }
   ],
   "source": [
    "train_df.fillna('')\n",
    "test_df.fillna('')\n",
    "print(test_df.info())"
   ]
  },
  {
   "cell_type": "markdown",
   "id": "bd4506e7-cd05-4d8c-8fe9-8feff86b006d",
   "metadata": {},
   "source": [
    "I also want to check the balance of the data to see if it's heavily skewed towards either label. Looking at the graph, there's about a 1000 more 0s than 1s, but it's not overly imbalanced, so I'll keep it as is."
   ]
  },
  {
   "cell_type": "code",
   "execution_count": 96,
   "id": "57d5addf-ce62-47bc-9481-889af9b00170",
   "metadata": {},
   "outputs": [
    {
     "name": "stdout",
     "output_type": "stream",
     "text": [
      "target\n",
      "0    4342\n",
      "1    3271\n",
      "Name: count, dtype: int64\n"
     ]
    },
    {
     "data": {
      "image/png": "[encoded data removed]",
      "text/plain": [
       "<Figure size 640x480 with 1 Axes>"
      ]
     },
     "metadata": {},
     "output_type": "display_data"
    }
   ],
   "source": [
    "print(train_df['target'].value_counts())\n",
    "sns.countplot(x='target', data=train_df)\n",
    "plt.title('Target Label Distribution')\n",
    "plt.show()"
   ]
  },
  {
   "cell_type": "markdown",
   "id": "5dfa4c9a-b448-4e3f-af3c-0e3d2b767327",
   "metadata": {},
   "source": [
    "We need to preprocess the text a bit before feeding to the model. I'll be cleaning up the text column by removing punctuation, stop words, and tokenizing the text."
   ]
  },
  {
   "cell_type": "code",
   "execution_count": 97,
   "id": "3f8029c9-cd5c-49ef-95bf-8dc38a00a514",
   "metadata": {},
   "outputs": [
    {
     "name": "stdout",
     "output_type": "stream",
     "text": [
      "Clean text example: deed reason earthquake allah forgive\n"
     ]
    }
   ],
   "source": [
    "# Preprocessing text\n",
    "import spacy\n",
    "\n",
    "nlp = spacy.load(\"en_core_web_sm\")\n",
    "\n",
    "def text_preprocess(text):\n",
    "    # Lower casing\n",
    "    doc = nlp(text.lower())\n",
    "\n",
    "    # Removing Punctuation, Stop words, and Tokenizing\n",
    "    tokens = [token.lemma_ for token in doc if (not token.is_stop and not token.is_punct and not token.is_digit)] \n",
    "\n",
    "    return ' '.join(tokens)\n",
    "\n",
    "# Do I actually want to remove stop words?\n",
    "train_df['text'] = train_df['text'].apply(text_preprocess)\n",
    "test_df['text'] = test_df['text'].apply(text_preprocess)\n",
    "\n",
    "# train_df['keyword'] = train_df['keyword'].apply(text_preprocess)\n",
    "# test_df['keyword'] = test_df['keyword'].apply(text_preprocess)\n",
    "\n",
    "print(\"Clean text example: \" + train_df['text'][0])"
   ]
  },
  {
   "cell_type": "markdown",
   "id": "1dead9d8-8a11-4705-9a8d-dbb1cd60f53d",
   "metadata": {},
   "source": [
    "I want to get an idea of what the text looks like now, so I'll take a look at the text length and the number of unique words."
   ]
  },
  {
   "cell_type": "code",
   "execution_count": 100,
   "id": "1538d99a-2523-4d5a-80f2-eb6fd8a25604",
   "metadata": {},
   "outputs": [
    {
     "name": "stdout",
     "output_type": "stream",
     "text": [
      "Unique Word Count:  31924\n"
     ]
    },
    {
     "data": {
      "text/plain": [
       "count    7613.000000\n",
       "mean      101.037436\n",
       "std        33.781325\n",
       "min         7.000000\n",
       "25%        78.000000\n",
       "50%       107.000000\n",
       "75%       133.000000\n",
       "max       157.000000\n",
       "Name: text, dtype: float64"
      ]
     },
     "execution_count": 100,
     "metadata": {},
     "output_type": "execute_result"
    }
   ],
   "source": [
    "from collections import Counter\n",
    "\n",
    "def count_words(text):\n",
    "    count = Counter()\n",
    "    for t in text.values:\n",
    "        for word in t.split():\n",
    "            count[word] += 1\n",
    "    return count\n",
    "\n",
    "unique_word_count = len(count_words(train_df.text))\n",
    "print(\"Unique Word Count: \", unique_word_count)\n",
    "\n",
    "text_length = train_df['text'].str.len()\n",
    "text_length.describe()\n"
   ]
  },
  {
   "cell_type": "markdown",
   "id": "32cf94f3-dc94-43a0-a500-730e84e3e470",
   "metadata": {},
   "source": [
    "We also need to split the training data into training and validation sets. I'll split 0/1 individually so there's an even distribution of 0/1s in the test and validation set. Going to start with just using the text column for X (and target for y)."
   ]
  },
  {
   "cell_type": "code",
   "execution_count": 102,
   "id": "2c41d856-8d2d-4283-8c9d-62fdd0eda5b3",
   "metadata": {},
   "outputs": [
    {
     "name": "stdout",
     "output_type": "stream",
     "text": [
      "#SBNation #Flames What Makes a Good Penalty Killer? http://t.co/xYi5fDacxO http://t.co/SjtvzgGcXU\n"
     ]
    },
    {
     "data": {
      "text/html": [
       "<div>\n",
       "<style scoped>\n",
       "    .dataframe tbody tr th:only-of-type {\n",
       "        vertical-align: middle;\n",
       "    }\n",
       "\n",
       "    .dataframe tbody tr th {\n",
       "        vertical-align: top;\n",
       "    }\n",
       "\n",
       "    .dataframe thead th {\n",
       "        text-align: right;\n",
       "    }\n",
       "</style>\n",
       "<table border=\"1\" class=\"dataframe\">\n",
       "  <thead>\n",
       "    <tr style=\"text-align: right;\">\n",
       "      <th></th>\n",
       "      <th>id</th>\n",
       "      <th>keyword</th>\n",
       "      <th>location</th>\n",
       "      <th>text</th>\n",
       "      <th>target</th>\n",
       "    </tr>\n",
       "  </thead>\n",
       "  <tbody>\n",
       "    <tr>\n",
       "      <th>3846</th>\n",
       "      <td>5473</td>\n",
       "      <td>flames</td>\n",
       "      <td>NaN</td>\n",
       "      <td>#SBNation #Flames What Makes a Good Penalty Ki...</td>\n",
       "      <td>0</td>\n",
       "    </tr>\n",
       "    <tr>\n",
       "      <th>3136</th>\n",
       "      <td>4507</td>\n",
       "      <td>emergency</td>\n",
       "      <td>New York</td>\n",
       "      <td>Survival Kit Whistle Fire Starter Wire Saw Cre...</td>\n",
       "      <td>0</td>\n",
       "    </tr>\n",
       "    <tr>\n",
       "      <th>6186</th>\n",
       "      <td>8831</td>\n",
       "      <td>sirens</td>\n",
       "      <td>Los Angles, CA</td>\n",
       "      <td>What's going on in Hollywood? #abc7eyewitness ...</td>\n",
       "      <td>0</td>\n",
       "    </tr>\n",
       "    <tr>\n",
       "      <th>1945</th>\n",
       "      <td>2796</td>\n",
       "      <td>curfew</td>\n",
       "      <td>NaN</td>\n",
       "      <td>When you're 5 hours late for curfew and have t...</td>\n",
       "      <td>0</td>\n",
       "    </tr>\n",
       "    <tr>\n",
       "      <th>1555</th>\n",
       "      <td>2245</td>\n",
       "      <td>chemical%20emergency</td>\n",
       "      <td>Jersey City, NJ</td>\n",
       "      <td>@laevantine Fortunately I reworked the plumbin...</td>\n",
       "      <td>0</td>\n",
       "    </tr>\n",
       "  </tbody>\n",
       "</table>\n",
       "</div>"
      ],
      "text/plain": [
       "        id               keyword         location  \\\n",
       "3846  5473                flames              NaN   \n",
       "3136  4507             emergency         New York   \n",
       "6186  8831                sirens   Los Angles, CA   \n",
       "1945  2796                curfew              NaN   \n",
       "1555  2245  chemical%20emergency  Jersey City, NJ   \n",
       "\n",
       "                                                   text  target  \n",
       "3846  #SBNation #Flames What Makes a Good Penalty Ki...       0  \n",
       "3136  Survival Kit Whistle Fire Starter Wire Saw Cre...       0  \n",
       "6186  What's going on in Hollywood? #abc7eyewitness ...       0  \n",
       "1945  When you're 5 hours late for curfew and have t...       0  \n",
       "1555  @laevantine Fortunately I reworked the plumbin...       0  "
      ]
     },
     "execution_count": 102,
     "metadata": {},
     "output_type": "execute_result"
    }
   ],
   "source": [
    "# Splitting sets\n",
    "from sklearn.model_selection import train_test_split\n",
    "\n",
    "zeros = train_df[train_df['target'] == 0]\n",
    "ones = train_df[train_df['target'] == 1]\n",
    "\n",
    "train0, val0 = train_test_split(zeros, test_size=0.3, random_state=10)\n",
    "train1, val1 = train_test_split(ones, test_size=0.3, random_state=10)\n",
    "\n",
    "train_set = pd.concat([train0, train1])\n",
    "val_set = pd.concat([val0, val1])\n",
    "\n",
    "X_train = np.array(train_set.text)\n",
    "y_train = np.array(train_set.target)\n",
    "X_valid = np.array(val_set.text)\n",
    "y_valid = np.array(val_set.target)\n",
    "\n",
    "print(X_train[0])\n",
    "\n",
    "train_set.head()"
   ]
  },
  {
   "cell_type": "code",
   "execution_count": 103,
   "id": "93a295e1-7185-40dc-bee7-4162f95a0108",
   "metadata": {},
   "outputs": [
    {
     "name": "stdout",
     "output_type": "stream",
     "text": [
      "['Survival Kit Whistle Fire Starter Wire Saw Cree Torch Emergency Blanket S knife  - Full re\\x89Û_ http://t.co/2OroYUNYM2 http://t.co/C9JnXz3DXC'\n",
      " \"What's going on in Hollywood? #abc7eyewitness @ABC7 helicopters and sirens. #HometownGlory\"]\n",
      "[[1893, 1487, 3667, 42, 2741, 2231, 398, 1058, 2232, 78, 3668, 99, 3669, 119, 580, 3, 1, 2, 5526, 3, 1, 2, 5527], [612, 123, 13, 6, 644, 5528, 3670, 3671, 9, 775, 5529]]\n"
     ]
    }
   ],
   "source": [
    "from tensorflow.keras.preprocessing.text import Tokenizer\n",
    "from tensorflow.keras.preprocessing.sequence import pad_sequences\n",
    "\n",
    "# Vectorize a text corpus by turning each text into a sequence of integers\n",
    "tokenizer = Tokenizer(num_words = unique_word_count)\n",
    "tokenizer.fit_on_texts(X_train)\n",
    "\n",
    "train_sequence = tokenizer.texts_to_sequences(X_train)\n",
    "val_sequence = tokenizer.texts_to_sequences(X_valid)\n",
    "\n",
    "print(X_train[1:3])\n",
    "print(train_sequence[1:3])\n",
    "\n",
    "\n",
    "# Max number of words in a sequence\n",
    "MAX_LEN = 20\n",
    "\n",
    "train_pad = pad_sequences(train_sequence, maxlen=MAX_LEN, padding=\"post\", truncating=\"post\")\n",
    "val_pad = pad_sequences(val_sequence, maxlen=MAX_LEN, padding=\"post\", truncating=\"post\")"
   ]
  },
  {
   "cell_type": "markdown",
   "id": "5bb789ce-fc36-4d55-abda-41e36cf029ab",
   "metadata": {},
   "source": [
    "#### Model Architecture\n",
    "\n",
    "Describe your model architecture and reasoning for why you believe that specific architecture would be suitable for this problem. \n",
    "\n",
    "Since we did not learn NLP-specific techniques such as word embeddings in the lectures, we recommend looking at Kaggle tutorials, discussion boards, and code examples posted for this challenge.  You can use any resources needed, but make sure you “demonstrate” you understood by including explanations in your own words. Also importantly, please have a reference list at the end of the report.  \n",
    "\n",
    "There are many methods to process texts to matrix form (word embedding), including TF-IDF, GloVe, Word2Vec, etc. Pick a strategy and process the raw texts to word embedding. Briefly explain the method(s) and how they work in your own words.\n",
    "\n",
    "Build and train your sequential neural network model (You may use any RNN family neural network, including advanced architectures LSTM, GRU, bidirectional RNN, etc.). "
   ]
  },
  {
   "cell_type": "code",
   "execution_count": 104,
   "id": "08685cfd-ef4d-498b-8d6a-e3a9208dfbff",
   "metadata": {},
   "outputs": [
    {
     "data": {
      "text/html": [
       "<pre style=\"white-space:pre;overflow-x:auto;line-height:normal;font-family:Menlo,'DejaVu Sans Mono',consolas,'Courier New',monospace\"><span style=\"font-weight: bold\">Model: \"sequential_8\"</span>\n",
       "</pre>\n"
      ],
      "text/plain": [
       "\u001b[1mModel: \"sequential_8\"\u001b[0m\n"
      ]
     },
     "metadata": {},
     "output_type": "display_data"
    },
    {
     "data": {
      "text/html": [
       "<pre style=\"white-space:pre;overflow-x:auto;line-height:normal;font-family:Menlo,'DejaVu Sans Mono',consolas,'Courier New',monospace\">┏━━━━━━━━━━━━━━━━━━━━━━━━━━━━━━━━━┳━━━━━━━━━━━━━━━━━━━━━━━━┳━━━━━━━━━━━━━━━┓\n",
       "┃<span style=\"font-weight: bold\"> Layer (type)                    </span>┃<span style=\"font-weight: bold\"> Output Shape           </span>┃<span style=\"font-weight: bold\">       Param # </span>┃\n",
       "┡━━━━━━━━━━━━━━━━━━━━━━━━━━━━━━━━━╇━━━━━━━━━━━━━━━━━━━━━━━━╇━━━━━━━━━━━━━━━┩\n",
       "│ embedding_9 (<span style=\"color: #0087ff; text-decoration-color: #0087ff\">Embedding</span>)         │ ?                      │   <span style=\"color: #00af00; text-decoration-color: #00af00\">0</span> (unbuilt) │\n",
       "├─────────────────────────────────┼────────────────────────┼───────────────┤\n",
       "│ bidirectional_16                │ ?                      │   <span style=\"color: #00af00; text-decoration-color: #00af00\">0</span> (unbuilt) │\n",
       "│ (<span style=\"color: #0087ff; text-decoration-color: #0087ff\">Bidirectional</span>)                 │                        │               │\n",
       "├─────────────────────────────────┼────────────────────────┼───────────────┤\n",
       "│ dropout_16 (<span style=\"color: #0087ff; text-decoration-color: #0087ff\">Dropout</span>)            │ ?                      │             <span style=\"color: #00af00; text-decoration-color: #00af00\">0</span> │\n",
       "├─────────────────────────────────┼────────────────────────┼───────────────┤\n",
       "│ bidirectional_17                │ ?                      │   <span style=\"color: #00af00; text-decoration-color: #00af00\">0</span> (unbuilt) │\n",
       "│ (<span style=\"color: #0087ff; text-decoration-color: #0087ff\">Bidirectional</span>)                 │                        │               │\n",
       "├─────────────────────────────────┼────────────────────────┼───────────────┤\n",
       "│ dense_16 (<span style=\"color: #0087ff; text-decoration-color: #0087ff\">Dense</span>)                │ ?                      │   <span style=\"color: #00af00; text-decoration-color: #00af00\">0</span> (unbuilt) │\n",
       "├─────────────────────────────────┼────────────────────────┼───────────────┤\n",
       "│ dropout_17 (<span style=\"color: #0087ff; text-decoration-color: #0087ff\">Dropout</span>)            │ ?                      │             <span style=\"color: #00af00; text-decoration-color: #00af00\">0</span> │\n",
       "├─────────────────────────────────┼────────────────────────┼───────────────┤\n",
       "│ dense_17 (<span style=\"color: #0087ff; text-decoration-color: #0087ff\">Dense</span>)                │ ?                      │   <span style=\"color: #00af00; text-decoration-color: #00af00\">0</span> (unbuilt) │\n",
       "└─────────────────────────────────┴────────────────────────┴───────────────┘\n",
       "</pre>\n"
      ],
      "text/plain": [
       "┏━━━━━━━━━━━━━━━━━━━━━━━━━━━━━━━━━┳━━━━━━━━━━━━━━━━━━━━━━━━┳━━━━━━━━━━━━━━━┓\n",
       "┃\u001b[1m \u001b[0m\u001b[1mLayer (type)                   \u001b[0m\u001b[1m \u001b[0m┃\u001b[1m \u001b[0m\u001b[1mOutput Shape          \u001b[0m\u001b[1m \u001b[0m┃\u001b[1m \u001b[0m\u001b[1m      Param #\u001b[0m\u001b[1m \u001b[0m┃\n",
       "┡━━━━━━━━━━━━━━━━━━━━━━━━━━━━━━━━━╇━━━━━━━━━━━━━━━━━━━━━━━━╇━━━━━━━━━━━━━━━┩\n",
       "│ embedding_9 (\u001b[38;5;33mEmbedding\u001b[0m)         │ ?                      │   \u001b[38;5;34m0\u001b[0m (unbuilt) │\n",
       "├─────────────────────────────────┼────────────────────────┼───────────────┤\n",
       "│ bidirectional_16                │ ?                      │   \u001b[38;5;34m0\u001b[0m (unbuilt) │\n",
       "│ (\u001b[38;5;33mBidirectional\u001b[0m)                 │                        │               │\n",
       "├─────────────────────────────────┼────────────────────────┼───────────────┤\n",
       "│ dropout_16 (\u001b[38;5;33mDropout\u001b[0m)            │ ?                      │             \u001b[38;5;34m0\u001b[0m │\n",
       "├─────────────────────────────────┼────────────────────────┼───────────────┤\n",
       "│ bidirectional_17                │ ?                      │   \u001b[38;5;34m0\u001b[0m (unbuilt) │\n",
       "│ (\u001b[38;5;33mBidirectional\u001b[0m)                 │                        │               │\n",
       "├─────────────────────────────────┼────────────────────────┼───────────────┤\n",
       "│ dense_16 (\u001b[38;5;33mDense\u001b[0m)                │ ?                      │   \u001b[38;5;34m0\u001b[0m (unbuilt) │\n",
       "├─────────────────────────────────┼────────────────────────┼───────────────┤\n",
       "│ dropout_17 (\u001b[38;5;33mDropout\u001b[0m)            │ ?                      │             \u001b[38;5;34m0\u001b[0m │\n",
       "├─────────────────────────────────┼────────────────────────┼───────────────┤\n",
       "│ dense_17 (\u001b[38;5;33mDense\u001b[0m)                │ ?                      │   \u001b[38;5;34m0\u001b[0m (unbuilt) │\n",
       "└─────────────────────────────────┴────────────────────────┴───────────────┘\n"
      ]
     },
     "metadata": {},
     "output_type": "display_data"
    },
    {
     "data": {
      "text/html": [
       "<pre style=\"white-space:pre;overflow-x:auto;line-height:normal;font-family:Menlo,'DejaVu Sans Mono',consolas,'Courier New',monospace\"><span style=\"font-weight: bold\"> Total params: </span><span style=\"color: #00af00; text-decoration-color: #00af00\">0</span> (0.00 B)\n",
       "</pre>\n"
      ],
      "text/plain": [
       "\u001b[1m Total params: \u001b[0m\u001b[38;5;34m0\u001b[0m (0.00 B)\n"
      ]
     },
     "metadata": {},
     "output_type": "display_data"
    },
    {
     "data": {
      "text/html": [
       "<pre style=\"white-space:pre;overflow-x:auto;line-height:normal;font-family:Menlo,'DejaVu Sans Mono',consolas,'Courier New',monospace\"><span style=\"font-weight: bold\"> Trainable params: </span><span style=\"color: #00af00; text-decoration-color: #00af00\">0</span> (0.00 B)\n",
       "</pre>\n"
      ],
      "text/plain": [
       "\u001b[1m Trainable params: \u001b[0m\u001b[38;5;34m0\u001b[0m (0.00 B)\n"
      ]
     },
     "metadata": {},
     "output_type": "display_data"
    },
    {
     "data": {
      "text/html": [
       "<pre style=\"white-space:pre;overflow-x:auto;line-height:normal;font-family:Menlo,'DejaVu Sans Mono',consolas,'Courier New',monospace\"><span style=\"font-weight: bold\"> Non-trainable params: </span><span style=\"color: #00af00; text-decoration-color: #00af00\">0</span> (0.00 B)\n",
       "</pre>\n"
      ],
      "text/plain": [
       "\u001b[1m Non-trainable params: \u001b[0m\u001b[38;5;34m0\u001b[0m (0.00 B)\n"
      ]
     },
     "metadata": {},
     "output_type": "display_data"
    }
   ],
   "source": [
    "# Creating basic architecture\n",
    "# EMBEDDING_DIM = 128\n",
    "\n",
    "def basic_RNN():\n",
    "    model = Sequential([\n",
    "        Embedding(unique_word_count, 128), #, input_length=MAX_LEN  #deprecated?\n",
    "        Bidirectional(LSTM(64, return_sequences=True)),\n",
    "        Dropout(0.5),\n",
    "        Bidirectional(LSTM(32)),\n",
    "        Dense(64, activation='relu'),\n",
    "        Dropout(0.5),\n",
    "        Dense(1, activation='sigmoid')\n",
    "    ])\n",
    "    return model\n",
    "\n",
    "basic_model = basic_RNN()\n",
    "basic_model.summary()"
   ]
  },
  {
   "cell_type": "markdown",
   "id": "a91b75e5-dd6a-4646-8fb6-d91554935b40",
   "metadata": {},
   "source": [
    "Next we'll compile the model. I'll use the Adam optimizer since it'll handle some of the learning rate balancing, and I'll use binary cross-entropy for the loss function."
   ]
  },
  {
   "cell_type": "code",
   "execution_count": 107,
   "id": "19bccc22-2bcc-460a-bf9e-990e68dc19ce",
   "metadata": {},
   "outputs": [],
   "source": [
    "LEARN_RATE = 0.001\n",
    "\n",
    "optimizer = Adam(LEARN_RATE)\n",
    "\n",
    "basic_model.compile(loss='binary_crossentropy',\n",
    "             optimizer=optimizer,\n",
    "             metrics=['accuracy'])"
   ]
  },
  {
   "cell_type": "code",
   "execution_count": 108,
   "id": "2a190214-f965-4e0a-bb3f-292d2fbdf5ba",
   "metadata": {},
   "outputs": [
    {
     "name": "stdout",
     "output_type": "stream",
     "text": [
      "Epoch 1/20\n",
      "\u001b[1m84/84\u001b[0m \u001b[32m━━━━━━━━━━━━━━━━━━━━\u001b[0m\u001b[37m\u001b[0m \u001b[1m4s\u001b[0m 29ms/step - accuracy: 0.9960 - loss: 0.0162 - val_accuracy: 0.7751 - val_loss: 1.3158\n",
      "Epoch 2/20\n",
      "\u001b[1m84/84\u001b[0m \u001b[32m━━━━━━━━━━━━━━━━━━━━\u001b[0m\u001b[37m\u001b[0m \u001b[1m3s\u001b[0m 36ms/step - accuracy: 0.9874 - loss: 0.0256 - val_accuracy: 0.7698 - val_loss: 1.3510\n",
      "Epoch 3/20\n",
      "\u001b[1m84/84\u001b[0m \u001b[32m━━━━━━━━━━━━━━━━━━━━\u001b[0m\u001b[37m\u001b[0m \u001b[1m3s\u001b[0m 38ms/step - accuracy: 0.9918 - loss: 0.0165 - val_accuracy: 0.7593 - val_loss: 1.3790\n",
      "Epoch 4/20\n",
      "\u001b[1m84/84\u001b[0m \u001b[32m━━━━━━━━━━━━━━━━━━━━\u001b[0m\u001b[37m\u001b[0m \u001b[1m3s\u001b[0m 39ms/step - accuracy: 0.9942 - loss: 0.0092 - val_accuracy: 0.7580 - val_loss: 1.6594\n",
      "Epoch 5/20\n",
      "\u001b[1m84/84\u001b[0m \u001b[32m━━━━━━━━━━━━━━━━━━━━\u001b[0m\u001b[37m\u001b[0m \u001b[1m3s\u001b[0m 38ms/step - accuracy: 0.9945 - loss: 0.0091 - val_accuracy: 0.7667 - val_loss: 1.5230\n",
      "Epoch 6/20\n",
      "\u001b[1m84/84\u001b[0m \u001b[32m━━━━━━━━━━━━━━━━━━━━\u001b[0m\u001b[37m\u001b[0m \u001b[1m3s\u001b[0m 39ms/step - accuracy: 0.9939 - loss: 0.0083 - val_accuracy: 0.7567 - val_loss: 1.8781\n",
      "Epoch 7/20\n",
      "\u001b[1m84/84\u001b[0m \u001b[32m━━━━━━━━━━━━━━━━━━━━\u001b[0m\u001b[37m\u001b[0m \u001b[1m3s\u001b[0m 39ms/step - accuracy: 0.9956 - loss: 0.0087 - val_accuracy: 0.7619 - val_loss: 1.8753\n",
      "Epoch 8/20\n",
      "\u001b[1m84/84\u001b[0m \u001b[32m━━━━━━━━━━━━━━━━━━━━\u001b[0m\u001b[37m\u001b[0m \u001b[1m3s\u001b[0m 39ms/step - accuracy: 0.9945 - loss: 0.0082 - val_accuracy: 0.7619 - val_loss: 1.9305\n",
      "Epoch 9/20\n",
      "\u001b[1m84/84\u001b[0m \u001b[32m━━━━━━━━━━━━━━━━━━━━\u001b[0m\u001b[37m\u001b[0m \u001b[1m3s\u001b[0m 39ms/step - accuracy: 0.9940 - loss: 0.0096 - val_accuracy: 0.7562 - val_loss: 1.7200\n",
      "Epoch 10/20\n",
      "\u001b[1m84/84\u001b[0m \u001b[32m━━━━━━━━━━━━━━━━━━━━\u001b[0m\u001b[37m\u001b[0m \u001b[1m3s\u001b[0m 39ms/step - accuracy: 0.9960 - loss: 0.0064 - val_accuracy: 0.7554 - val_loss: 1.8643\n",
      "Epoch 11/20\n",
      "\u001b[1m84/84\u001b[0m \u001b[32m━━━━━━━━━━━━━━━━━━━━\u001b[0m\u001b[37m\u001b[0m \u001b[1m3s\u001b[0m 38ms/step - accuracy: 0.9969 - loss: 0.0083 - val_accuracy: 0.7575 - val_loss: 1.8795\n",
      "Epoch 12/20\n",
      "\u001b[1m84/84\u001b[0m \u001b[32m━━━━━━━━━━━━━━━━━━━━\u001b[0m\u001b[37m\u001b[0m \u001b[1m3s\u001b[0m 39ms/step - accuracy: 0.9939 - loss: 0.0096 - val_accuracy: 0.7575 - val_loss: 1.9030\n",
      "Epoch 13/20\n",
      "\u001b[1m84/84\u001b[0m \u001b[32m━━━━━━━━━━━━━━━━━━━━\u001b[0m\u001b[37m\u001b[0m \u001b[1m3s\u001b[0m 39ms/step - accuracy: 0.9947 - loss: 0.0087 - val_accuracy: 0.7571 - val_loss: 1.9729\n",
      "Epoch 14/20\n",
      "\u001b[1m84/84\u001b[0m \u001b[32m━━━━━━━━━━━━━━━━━━━━\u001b[0m\u001b[37m\u001b[0m \u001b[1m3s\u001b[0m 39ms/step - accuracy: 0.9954 - loss: 0.0087 - val_accuracy: 0.7554 - val_loss: 2.0369\n",
      "Epoch 15/20\n",
      "\u001b[1m84/84\u001b[0m \u001b[32m━━━━━━━━━━━━━━━━━━━━\u001b[0m\u001b[37m\u001b[0m \u001b[1m3s\u001b[0m 39ms/step - accuracy: 0.9923 - loss: 0.0092 - val_accuracy: 0.7567 - val_loss: 2.1209\n",
      "Epoch 16/20\n",
      "\u001b[1m84/84\u001b[0m \u001b[32m━━━━━━━━━━━━━━━━━━━━\u001b[0m\u001b[37m\u001b[0m \u001b[1m3s\u001b[0m 39ms/step - accuracy: 0.9961 - loss: 0.0064 - val_accuracy: 0.7589 - val_loss: 2.0878\n",
      "Epoch 17/20\n",
      "\u001b[1m84/84\u001b[0m \u001b[32m━━━━━━━━━━━━━━━━━━━━\u001b[0m\u001b[37m\u001b[0m \u001b[1m3s\u001b[0m 39ms/step - accuracy: 0.9945 - loss: 0.0094 - val_accuracy: 0.7606 - val_loss: 2.1279\n",
      "Epoch 18/20\n",
      "\u001b[1m84/84\u001b[0m \u001b[32m━━━━━━━━━━━━━━━━━━━━\u001b[0m\u001b[37m\u001b[0m \u001b[1m3s\u001b[0m 39ms/step - accuracy: 0.9967 - loss: 0.0064 - val_accuracy: 0.7510 - val_loss: 2.1430\n",
      "Epoch 19/20\n",
      "\u001b[1m84/84\u001b[0m \u001b[32m━━━━━━━━━━━━━━━━━━━━\u001b[0m\u001b[37m\u001b[0m \u001b[1m3s\u001b[0m 39ms/step - accuracy: 0.9940 - loss: 0.0121 - val_accuracy: 0.7694 - val_loss: 1.2566\n",
      "Epoch 20/20\n",
      "\u001b[1m84/84\u001b[0m \u001b[32m━━━━━━━━━━━━━━━━━━━━\u001b[0m\u001b[37m\u001b[0m \u001b[1m3s\u001b[0m 39ms/step - accuracy: 0.9858 - loss: 0.0479 - val_accuracy: 0.7243 - val_loss: 1.4793\n"
     ]
    }
   ],
   "source": [
    "BATCH_SIZE = 64\n",
    "EPOCHS = 20\n",
    "\n",
    "history1 = basic_model.fit(train_pad, y_train, \n",
    "                epochs=EPOCHS, \n",
    "                batch_size=BATCH_SIZE, \n",
    "                validation_data=(val_pad, y_valid))"
   ]
  },
  {
   "cell_type": "code",
   "execution_count": null,
   "id": "199e9ed4-aca6-436c-9ab0-e603bc957fd7",
   "metadata": {},
   "outputs": [],
   "source": []
  },
  {
   "cell_type": "markdown",
   "id": "b8b38939-689f-409d-b88b-254e350b43ee",
   "metadata": {},
   "source": [
    "#### Results and Analysis\n",
    "Run hyperparameter tuning, try different architectures for comparison, apply techniques to improve training or performance, and discuss what helped.\n",
    "\n",
    "Includes results with tables and figures. There is an analysis of why or why not something worked well, troubleshooting, and a hyperparameter optimization procedure summary."
   ]
  },
  {
   "cell_type": "code",
   "execution_count": 111,
   "id": "88201cef-afe2-45a5-bf03-12758c947aad",
   "metadata": {},
   "outputs": [
    {
     "data": {
      "text/plain": [
       "<matplotlib.legend.Legend at 0x17e5580d0>"
      ]
     },
     "execution_count": 111,
     "metadata": {},
     "output_type": "execute_result"
    },
    {
     "data": {
      "image/png": "[encoded data removed]",
      "text/plain": [
       "<Figure size 1000x500 with 2 Axes>"
      ]
     },
     "metadata": {},
     "output_type": "display_data"
    }
   ],
   "source": [
    "fig, (ax1, ax2) = plt.subplots(1, 2, figsize=(10, 5))\n",
    "\n",
    "ax1.plot(history1.history['accuracy'], label='accuracy')\n",
    "ax1.plot(history1.history['val_accuracy'], label = 'val_accuracy')\n",
    "ax1.set_xlabel('Epoch')\n",
    "ax1.set_ylabel('Accuracy')\n",
    "ax1.set_ylim([0.5, 1])\n",
    "ax1.set_title('Acc: Learn Rate 0.001 with Weight Decay')\n",
    "ax1.legend(loc='lower right')\n",
    "\n",
    "ax2.plot(history1.history['loss'], label='loss')\n",
    "ax2.plot(history1.history['val_loss'], label = 'val_loss')\n",
    "ax2.set_xlabel('Epoch')\n",
    "ax2.set_ylabel('Loss')\n",
    "ax2.set_ylim([0, .2])\n",
    "ax2.set_title('Loss: Learn Rate 0.001 with Weight Decay')\n",
    "ax2.legend(loc='lower right')"
   ]
  },
  {
   "cell_type": "markdown",
   "id": "83b5e7c7-1995-4957-ac0b-1e5064051db5",
   "metadata": {},
   "source": [
    "#### Conclusion\n",
    "Discuss and interpret results as well as learnings and takeaways. What did and did not help improve the performance of your models? What improvements could you try in the future?"
   ]
  },
  {
   "cell_type": "code",
   "execution_count": null,
   "id": "f060c784-929b-4fad-8aa8-ac411c375a98",
   "metadata": {},
   "outputs": [],
   "source": []
  }
 ],
 "metadata": {
  "kernelspec": {
   "display_name": "Python 3 (ipykernel)",
   "language": "python",
   "name": "python3"
  },
  "language_info": {
   "codemirror_mode": {
    "name": "ipython",
    "version": 3
   },
   "file_extension": ".py",
   "mimetype": "text/x-python",
   "name": "python",
   "nbconvert_exporter": "python",
   "pygments_lexer": "ipython3",
   "version": "3.11.4"
  }
 },
 "nbformat": 4,
 "nbformat_minor": 5
}
