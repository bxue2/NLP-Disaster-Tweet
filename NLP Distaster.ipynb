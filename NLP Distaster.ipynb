{
 "cells": [
  {
   "cell_type": "code",
   "execution_count": 41,
   "id": "b44fb9ff-3e99-42a8-98d8-cfe143a2d36a",
   "metadata": {},
   "outputs": [],
   "source": [
    "import numpy as np\n",
    "import pandas as pd\n",
    "import seaborn as sns\n",
    "import sklearn\n",
    "import matplotlib.pyplot as plt\n",
    "\n",
    "import tensorflow as tf\n",
    "from tensorflow.keras.models import Sequential\n",
    "from tensorflow.keras.layers import Embedding, LSTM, Dense, Dropout, Bidirectional\n",
    "from tensorflow.keras.optimizers import Adam"
   ]
  },
  {
   "cell_type": "markdown",
   "id": "e6d11f3c-8f8f-4fe0-8f33-f775048bc600",
   "metadata": {},
   "source": [
    "### Week 4: NLP with Disaster Tweets"
   ]
  },
  {
   "cell_type": "markdown",
   "id": "7e96c203-4929-42fa-be31-499781b2af83",
   "metadata": {},
   "source": [
    "#### Problem\n",
    "This project will be looking at various Tweets from the social media platform Twitter/X, and building a Natural Language Processing Model to identify whether a tweet is indicating a disaster occurence or not. This project will use data from https://www.kaggle.com/c/nlp-getting-started/overview, using training data labeled with text, keywords, location, and whether or not it's a real disaster or not."
   ]
  },
  {
   "cell_type": "markdown",
   "id": "a29779fb-ebde-4499-ade6-c9962bb099a1",
   "metadata": {},
   "source": [
    "#### EDA\n",
    "First starting out by importing the CSVs and taking a look at the training data. I'll import all columns as strings so I don't need to convert them later."
   ]
  },
  {
   "cell_type": "code",
   "execution_count": 98,
   "id": "eafa63d3-fbbd-4840-b627-b43d35a7c6a5",
   "metadata": {},
   "outputs": [
    {
     "name": "stdout",
     "output_type": "stream",
     "text": [
      "<class 'pandas.core.frame.DataFrame'>\n",
      "RangeIndex: 7613 entries, 0 to 7612\n",
      "Data columns (total 5 columns):\n",
      " #   Column    Non-Null Count  Dtype \n",
      "---  ------    --------------  ----- \n",
      " 0   id        7613 non-null   int64 \n",
      " 1   keyword   7552 non-null   object\n",
      " 2   location  5080 non-null   object\n",
      " 3   text      7613 non-null   object\n",
      " 4   target    7613 non-null   int64 \n",
      "dtypes: int64(2), object(3)\n",
      "memory usage: 297.5+ KB\n",
      "None\n",
      "Columns:  Index(['id', 'keyword', 'location', 'text', 'target'], dtype='object')\n",
      "Training data shape:  (7613, 5)\n"
     ]
    },
    {
     "data": {
      "text/html": [
       "<div>\n",
       "<style scoped>\n",
       "    .dataframe tbody tr th:only-of-type {\n",
       "        vertical-align: middle;\n",
       "    }\n",
       "\n",
       "    .dataframe tbody tr th {\n",
       "        vertical-align: top;\n",
       "    }\n",
       "\n",
       "    .dataframe thead th {\n",
       "        text-align: right;\n",
       "    }\n",
       "</style>\n",
       "<table border=\"1\" class=\"dataframe\">\n",
       "  <thead>\n",
       "    <tr style=\"text-align: right;\">\n",
       "      <th></th>\n",
       "      <th>id</th>\n",
       "      <th>keyword</th>\n",
       "      <th>location</th>\n",
       "      <th>text</th>\n",
       "      <th>target</th>\n",
       "    </tr>\n",
       "  </thead>\n",
       "  <tbody>\n",
       "    <tr>\n",
       "      <th>0</th>\n",
       "      <td>1</td>\n",
       "      <td>NaN</td>\n",
       "      <td>NaN</td>\n",
       "      <td>Our Deeds are the Reason of this #earthquake M...</td>\n",
       "      <td>1</td>\n",
       "    </tr>\n",
       "    <tr>\n",
       "      <th>1</th>\n",
       "      <td>4</td>\n",
       "      <td>NaN</td>\n",
       "      <td>NaN</td>\n",
       "      <td>Forest fire near La Ronge Sask. Canada</td>\n",
       "      <td>1</td>\n",
       "    </tr>\n",
       "    <tr>\n",
       "      <th>2</th>\n",
       "      <td>5</td>\n",
       "      <td>NaN</td>\n",
       "      <td>NaN</td>\n",
       "      <td>All residents asked to 'shelter in place' are ...</td>\n",
       "      <td>1</td>\n",
       "    </tr>\n",
       "    <tr>\n",
       "      <th>3</th>\n",
       "      <td>6</td>\n",
       "      <td>NaN</td>\n",
       "      <td>NaN</td>\n",
       "      <td>13,000 people receive #wildfires evacuation or...</td>\n",
       "      <td>1</td>\n",
       "    </tr>\n",
       "    <tr>\n",
       "      <th>4</th>\n",
       "      <td>7</td>\n",
       "      <td>NaN</td>\n",
       "      <td>NaN</td>\n",
       "      <td>Just got sent this photo from Ruby #Alaska as ...</td>\n",
       "      <td>1</td>\n",
       "    </tr>\n",
       "  </tbody>\n",
       "</table>\n",
       "</div>"
      ],
      "text/plain": [
       "   id keyword location                                               text  \\\n",
       "0   1     NaN      NaN  Our Deeds are the Reason of this #earthquake M...   \n",
       "1   4     NaN      NaN             Forest fire near La Ronge Sask. Canada   \n",
       "2   5     NaN      NaN  All residents asked to 'shelter in place' are ...   \n",
       "3   6     NaN      NaN  13,000 people receive #wildfires evacuation or...   \n",
       "4   7     NaN      NaN  Just got sent this photo from Ruby #Alaska as ...   \n",
       "\n",
       "   target  \n",
       "0       1  \n",
       "1       1  \n",
       "2       1  \n",
       "3       1  \n",
       "4       1  "
      ]
     },
     "execution_count": 98,
     "metadata": {},
     "output_type": "execute_result"
    }
   ],
   "source": [
    "train_df = pd.read_csv('nlp-getting-started/train.csv')\n",
    "test_df = pd.read_csv('nlp-getting-started/test.csv')\n",
    "submit_df = pd.read_csv('nlp-getting-started/sample_submission.csv')\n",
    "\n",
    "print(train_df.info())\n",
    "print(\"Columns: \", train_df.columns)\n",
    "print(\"Training data shape: \", train_df.shape)\n",
    "train_df.head()"
   ]
  },
  {
   "cell_type": "markdown",
   "id": "df11a852-aa00-49e7-9323-33ea5ad3ce88",
   "metadata": {},
   "source": [
    "Looking at the data from train_df.info(), there's 7613 total entries with 5 columns in the data set, but 2533 of them are missing location data, and 61 of them are missing keywords. \n",
    "\n",
    "Looking at the test data, missing location/keyword data is a regular occurence, so I'll likely want to keep entries with missing info during training still, but I'll fill in the null values with the empty string '' so it doesn't cause issues later."
   ]
  },
  {
   "cell_type": "code",
   "execution_count": 95,
   "id": "e09aaccc-8e58-4ccf-923e-69a88191df2f",
   "metadata": {},
   "outputs": [
    {
     "name": "stdout",
     "output_type": "stream",
     "text": [
      "<class 'pandas.core.frame.DataFrame'>\n",
      "RangeIndex: 3263 entries, 0 to 3262\n",
      "Data columns (total 4 columns):\n",
      " #   Column    Non-Null Count  Dtype \n",
      "---  ------    --------------  ----- \n",
      " 0   id        3263 non-null   int64 \n",
      " 1   keyword   3237 non-null   object\n",
      " 2   location  2158 non-null   object\n",
      " 3   text      3263 non-null   object\n",
      "dtypes: int64(1), object(3)\n",
      "memory usage: 102.1+ KB\n",
      "None\n"
     ]
    }
   ],
   "source": [
    "train_df.fillna('')\n",
    "test_df.fillna('')\n",
    "print(test_df.info())"
   ]
  },
  {
   "cell_type": "markdown",
   "id": "bd4506e7-cd05-4d8c-8fe9-8feff86b006d",
   "metadata": {},
   "source": [
    "I also want to check the balance of the data to see if it's heavily skewed towards either label. Looking at the graph, there's about a 1000 more 0s than 1s, but it's not overly imbalanced, so I'll keep it as is."
   ]
  },
  {
   "cell_type": "code",
   "execution_count": 96,
   "id": "57d5addf-ce62-47bc-9481-889af9b00170",
   "metadata": {},
   "outputs": [
    {
     "name": "stdout",
     "output_type": "stream",
     "text": [
      "target\n",
      "0    4342\n",
      "1    3271\n",
      "Name: count, dtype: int64\n"
     ]
    },
    {
     "data": {
      "image/png": "[encoded data removed]",
      "text/plain": [
       "<Figure size 640x480 with 1 Axes>"
      ]
     },
     "metadata": {},
     "output_type": "display_data"
    }
   ],
   "source": [
    "print(train_df['target'].value_counts())\n",
    "sns.countplot(x='target', data=train_df)\n",
    "plt.title('Target Label Distribution')\n",
    "plt.show()"
   ]
  },
  {
   "cell_type": "markdown",
   "id": "5dfa4c9a-b448-4e3f-af3c-0e3d2b767327",
   "metadata": {},
   "source": [
    "We need to preprocess the text a bit before feeding to the model. I'll be cleaning up the text column by removing punctuation, stop words, and tokenizing the text."
   ]
  },
  {
   "cell_type": "code",
   "execution_count": 97,
   "id": "3f8029c9-cd5c-49ef-95bf-8dc38a00a514",
   "metadata": {},
   "outputs": [
    {
     "name": "stdout",
     "output_type": "stream",
     "text": [
      "Clean text example: deed reason earthquake allah forgive\n"
     ]
    }
   ],
   "source": [
    "# Preprocessing text\n",
    "import spacy\n",
    "\n",
    "nlp = spacy.load(\"en_core_web_sm\")\n",
    "\n",
    "def text_preprocess(text):\n",
    "    # Lower casing\n",
    "    doc = nlp(text.lower())\n",
    "\n",
    "    # Removing Punctuation, Stop words, and Tokenizing\n",
    "    tokens = [token.lemma_ for token in doc if (not token.is_stop and not token.is_punct and not token.is_digit)] \n",
    "\n",
    "    return ' '.join(tokens)\n",
    "\n",
    "# Do I actually want to remove stop words?\n",
    "train_df['text'] = train_df['text'].apply(text_preprocess)\n",
    "test_df['text'] = test_df['text'].apply(text_preprocess)\n",
    "\n",
    "# train_df['keyword'] = train_df['keyword'].apply(text_preprocess)\n",
    "# test_df['keyword'] = test_df['keyword'].apply(text_preprocess)\n",
    "\n",
    "print(\"Clean text example: \" + train_df['text'][0])"
   ]
  },
  {
   "cell_type": "markdown",
   "id": "1dead9d8-8a11-4705-9a8d-dbb1cd60f53d",
   "metadata": {},
   "source": [
    "I want to get an idea of what the text looks like now, so I'll take a look at the text length and the number of unique words."
   ]
  },
  {
   "cell_type": "code",
   "execution_count": 100,
   "id": "1538d99a-2523-4d5a-80f2-eb6fd8a25604",
   "metadata": {},
   "outputs": [
    {
     "name": "stdout",
     "output_type": "stream",
     "text": [
      "Unique Word Count:  31924\n"
     ]
    },
    {
     "data": {
      "text/plain": [
       "count    7613.000000\n",
       "mean      101.037436\n",
       "std        33.781325\n",
       "min         7.000000\n",
       "25%        78.000000\n",
       "50%       107.000000\n",
       "75%       133.000000\n",
       "max       157.000000\n",
       "Name: text, dtype: float64"
      ]
     },
     "execution_count": 100,
     "metadata": {},
     "output_type": "execute_result"
    }
   ],
   "source": [
    "from collections import Counter\n",
    "\n",
    "def count_words(text):\n",
    "    count = Counter()\n",
    "    for t in text.values:\n",
    "        for word in t.split():\n",
    "            count[word] += 1\n",
    "    return count\n",
    "\n",
    "unique_word_count = len(count_words(train_df.text))\n",
    "print(\"Unique Word Count: \", unique_word_count)\n",
    "\n",
    "text_length = train_df['text'].str.len()\n",
    "text_length.describe()\n"
   ]
  },
  {
   "cell_type": "markdown",
   "id": "32cf94f3-dc94-43a0-a500-730e84e3e470",
   "metadata": {},
   "source": [
    "We also need to split the training data into training and validation sets. I'll split 0/1 individually so there's an even distribution of 0/1s in the test and validation set. Going to start with just using the text column for X (and target for y)."
   ]
  },
  {
   "cell_type": "code",
   "execution_count": 102,
   "id": "2c41d856-8d2d-4283-8c9d-62fdd0eda5b3",
   "metadata": {},
   "outputs": [
    {
     "name": "stdout",
     "output_type": "stream",
     "text": [
      "#SBNation #Flames What Makes a Good Penalty Killer? http://t.co/xYi5fDacxO http://t.co/SjtvzgGcXU\n"
     ]
    },
    {
     "data": {
      "text/html": [
       "<div>\n",
       "<style scoped>\n",
       "    .dataframe tbody tr th:only-of-type {\n",
       "        vertical-align: middle;\n",
       "    }\n",
       "\n",
       "    .dataframe tbody tr th {\n",
       "        vertical-align: top;\n",
       "    }\n",
       "\n",
       "    .dataframe thead th {\n",
       "        text-align: right;\n",
       "    }\n",
       "</style>\n",
       "<table border=\"1\" class=\"dataframe\">\n",
       "  <thead>\n",
       "    <tr style=\"text-align: right;\">\n",
       "      <th></th>\n",
       "      <th>id</th>\n",
       "      <th>keyword</th>\n",
       "      <th>location</th>\n",
       "      <th>text</th>\n",
       "      <th>target</th>\n",
       "    </tr>\n",
       "  </thead>\n",
       "  <tbody>\n",
       "    <tr>\n",
       "      <th>3846</th>\n",
       "      <td>5473</td>\n",
       "      <td>flames</td>\n",
       "      <td>NaN</td>\n",
       "      <td>#SBNation #Flames What Makes a Good Penalty Ki...</td>\n",
       "      <td>0</td>\n",
       "    </tr>\n",
       "    <tr>\n",
       "      <th>3136</th>\n",
       "      <td>4507</td>\n",
       "      <td>emergency</td>\n",
       "      <td>New York</td>\n",
       "      <td>Survival Kit Whistle Fire Starter Wire Saw Cre...</td>\n",
       "      <td>0</td>\n",
       "    </tr>\n",
       "    <tr>\n",
       "      <th>6186</th>\n",
       "      <td>8831</td>\n",
       "      <td>sirens</td>\n",
       "      <td>Los Angles, CA</td>\n",
       "      <td>What's going on in Hollywood? #abc7eyewitness ...</td>\n",
       "      <td>0</td>\n",
       "    </tr>\n",
       "    <tr>\n",
       "      <th>1945</th>\n",
       "      <td>2796</td>\n",
       "      <td>curfew</td>\n",
       "      <td>NaN</td>\n",
       "      <td>When you're 5 hours late for curfew and have t...</td>\n",
       "      <td>0</td>\n",
       "    </tr>\n",
       "    <tr>\n",
       "      <th>1555</th>\n",
       "      <td>2245</td>\n",
       "      <td>chemical%20emergency</td>\n",
       "      <td>Jersey City, NJ</td>\n",
       "      <td>@laevantine Fortunately I reworked the plumbin...</td>\n",
       "      <td>0</td>\n",
       "    </tr>\n",
       "  </tbody>\n",
       "</table>\n",
       "</div>"
      ],
      "text/plain": [
       "        id               keyword         location  \\\n",
       "3846  5473                flames              NaN   \n",
       "3136  4507             emergency         New York   \n",
       "6186  8831                sirens   Los Angles, CA   \n",
       "1945  2796                curfew              NaN   \n",
       "1555  2245  chemical%20emergency  Jersey City, NJ   \n",
       "\n",
       "                                                   text  target  \n",
       "3846  #SBNation #Flames What Makes a Good Penalty Ki...       0  \n",
       "3136  Survival Kit Whistle Fire Starter Wire Saw Cre...       0  \n",
       "6186  What's going on in Hollywood? #abc7eyewitness ...       0  \n",
       "1945  When you're 5 hours late for curfew and have t...       0  \n",
       "1555  @laevantine Fortunately I reworked the plumbin...       0  "
      ]
     },
     "execution_count": 102,
     "metadata": {},
     "output_type": "execute_result"
    }
   ],
   "source": [
    "# Splitting sets\n",
    "from sklearn.model_selection import train_test_split\n",
    "\n",
    "zeros = train_df[train_df['target'] == 0]\n",
    "ones = train_df[train_df['target'] == 1]\n",
    "\n",
    "train0, val0 = train_test_split(zeros, test_size=0.3, random_state=10)\n",
    "train1, val1 = train_test_split(ones, test_size=0.3, random_state=10)\n",
    "\n",
    "train_set = pd.concat([train0, train1])\n",
    "val_set = pd.concat([val0, val1])\n",
    "\n",
    "X_train = np.array(train_set.text)\n",
    "y_train = np.array(train_set.target)\n",
    "X_valid = np.array(val_set.text)\n",
    "y_valid = np.array(val_set.target)\n",
    "\n",
    "print(X_train[0])\n",
    "\n",
    "train_set.head()"
   ]
  },
  {
   "cell_type": "code",
   "execution_count": 103,
   "id": "93a295e1-7185-40dc-bee7-4162f95a0108",
   "metadata": {},
   "outputs": [
    {
     "name": "stdout",
     "output_type": "stream",
     "text": [
      "['Survival Kit Whistle Fire Starter Wire Saw Cree Torch Emergency Blanket S knife  - Full re\\x89Û_ http://t.co/2OroYUNYM2 http://t.co/C9JnXz3DXC'\n",
      " \"What's going on in Hollywood? #abc7eyewitness @ABC7 helicopters and sirens. #HometownGlory\"]\n",
      "[[1893, 1487, 3667, 42, 2741, 2231, 398, 1058, 2232, 78, 3668, 99, 3669, 119, 580, 3, 1, 2, 5526, 3, 1, 2, 5527], [612, 123, 13, 6, 644, 5528, 3670, 3671, 9, 775, 5529]]\n"
     ]
    }
   ],
   "source": [
    "from tensorflow.keras.preprocessing.text import Tokenizer\n",
    "from tensorflow.keras.preprocessing.sequence import pad_sequences\n",
    "\n",
    "# Vectorize a text corpus by turning each text into a sequence of integers\n",
    "tokenizer = Tokenizer(num_words = unique_word_count)\n",
    "tokenizer.fit_on_texts(X_train)\n",
    "\n",
    "train_sequence = tokenizer.texts_to_sequences(X_train)\n",
    "val_sequence = tokenizer.texts_to_sequences(X_valid)\n",
    "\n",
    "print(X_train[1:3])\n",
    "print(train_sequence[1:3])\n",
    "\n",
    "\n",
    "# Max number of words in a sequence\n",
    "MAX_LEN = 20\n",
    "\n",
    "train_pad = pad_sequences(train_sequence, maxlen=MAX_LEN, padding=\"post\", truncating=\"post\")\n",
    "val_pad = pad_sequences(val_sequence, maxlen=MAX_LEN, padding=\"post\", truncating=\"post\")"
   ]
  },
  {
   "cell_type": "markdown",
   "id": "5bb789ce-fc36-4d55-abda-41e36cf029ab",
   "metadata": {},
   "source": [
    "#### Model Architecture\n",
    "\n",
    "Describe your model architecture and reasoning for why you believe that specific architecture would be suitable for this problem. \n",
    "\n",
    "Since we did not learn NLP-specific techniques such as word embeddings in the lectures, we recommend looking at Kaggle tutorials, discussion boards, and code examples posted for this challenge.  You can use any resources needed, but make sure you “demonstrate” you understood by including explanations in your own words. Also importantly, please have a reference list at the end of the report.  \n",
    "\n",
    "There are many methods to process texts to matrix form (word embedding), including TF-IDF, GloVe, Word2Vec, etc. Pick a strategy and process the raw texts to word embedding. Briefly explain the method(s) and how they work in your own words.\n",
    "\n",
    "Build and train your sequential neural network model (You may use any RNN family neural network, including advanced architectures LSTM, GRU, bidirectional RNN, etc.). "
   ]
  },
  {
   "cell_type": "code",
   "execution_count": 104,
   "id": "08685cfd-ef4d-498b-8d6a-e3a9208dfbff",
   "metadata": {},
   "outputs": [
    {
     "data": {
      "text/html": [
       "<pre style=\"white-space:pre;overflow-x:auto;line-height:normal;font-family:Menlo,'DejaVu Sans Mono',consolas,'Courier New',monospace\"><span style=\"font-weight: bold\">Model: \"sequential_8\"</span>\n",
       "</pre>\n"
      ],
      "text/plain": [
       "\u001b[1mModel: \"sequential_8\"\u001b[0m\n"
      ]
     },
     "metadata": {},
     "output_type": "display_data"
    },
    {
     "data": {
      "text/html": [
       "<pre style=\"white-space:pre;overflow-x:auto;line-height:normal;font-family:Menlo,'DejaVu Sans Mono',consolas,'Courier New',monospace\">┏━━━━━━━━━━━━━━━━━━━━━━━━━━━━━━━━━┳━━━━━━━━━━━━━━━━━━━━━━━━┳━━━━━━━━━━━━━━━┓\n",
       "┃<span style=\"font-weight: bold\"> Layer (type)                    </span>┃<span style=\"font-weight: bold\"> Output Shape           </span>┃<span style=\"font-weight: bold\">       Param # </span>┃\n",
       "┡━━━━━━━━━━━━━━━━━━━━━━━━━━━━━━━━━╇━━━━━━━━━━━━━━━━━━━━━━━━╇━━━━━━━━━━━━━━━┩\n",
       "│ embedding_9 (<span style=\"color: #0087ff; text-decoration-color: #0087ff\">Embedding</span>)         │ ?                      │   <span style=\"color: #00af00; text-decoration-color: #00af00\">0</span> (unbuilt) │\n",
       "├─────────────────────────────────┼────────────────────────┼───────────────┤\n",
       "│ bidirectional_16                │ ?                      │   <span style=\"color: #00af00; text-decoration-color: #00af00\">0</span> (unbuilt) │\n",
       "│ (<span style=\"color: #0087ff; text-decoration-color: #0087ff\">Bidirectional</span>)                 │                        │               │\n",
       "├─────────────────────────────────┼────────────────────────┼───────────────┤\n",
       "│ dropout_16 (<span style=\"color: #0087ff; text-decoration-color: #0087ff\">Dropout</span>)            │ ?                      │             <span style=\"color: #00af00; text-decoration-color: #00af00\">0</span> │\n",
       "├─────────────────────────────────┼────────────────────────┼───────────────┤\n",
       "│ bidirectional_17                │ ?                      │   <span style=\"color: #00af00; text-decoration-color: #00af00\">0</span> (unbuilt) │\n",
       "│ (<span style=\"color: #0087ff; text-decoration-color: #0087ff\">Bidirectional</span>)                 │                        │               │\n",
       "├─────────────────────────────────┼────────────────────────┼───────────────┤\n",
       "│ dense_16 (<span style=\"color: #0087ff; text-decoration-color: #0087ff\">Dense</span>)                │ ?                      │   <span style=\"color: #00af00; text-decoration-color: #00af00\">0</span> (unbuilt) │\n",
       "├─────────────────────────────────┼────────────────────────┼───────────────┤\n",
       "│ dropout_17 (<span style=\"color: #0087ff; text-decoration-color: #0087ff\">Dropout</span>)            │ ?                      │             <span style=\"color: #00af00; text-decoration-color: #00af00\">0</span> │\n",
       "├─────────────────────────────────┼────────────────────────┼───────────────┤\n",
       "│ dense_17 (<span style=\"color: #0087ff; text-decoration-color: #0087ff\">Dense</span>)                │ ?                      │   <span style=\"color: #00af00; text-decoration-color: #00af00\">0</span> (unbuilt) │\n",
       "└─────────────────────────────────┴────────────────────────┴───────────────┘\n",
       "</pre>\n"
      ],
      "text/plain": [
       "┏━━━━━━━━━━━━━━━━━━━━━━━━━━━━━━━━━┳━━━━━━━━━━━━━━━━━━━━━━━━┳━━━━━━━━━━━━━━━┓\n",
       "┃\u001b[1m \u001b[0m\u001b[1mLayer (type)                   \u001b[0m\u001b[1m \u001b[0m┃\u001b[1m \u001b[0m\u001b[1mOutput Shape          \u001b[0m\u001b[1m \u001b[0m┃\u001b[1m \u001b[0m\u001b[1m      Param #\u001b[0m\u001b[1m \u001b[0m┃\n",
       "┡━━━━━━━━━━━━━━━━━━━━━━━━━━━━━━━━━╇━━━━━━━━━━━━━━━━━━━━━━━━╇━━━━━━━━━━━━━━━┩\n",
       "│ embedding_9 (\u001b[38;5;33mEmbedding\u001b[0m)         │ ?                      │   \u001b[38;5;34m0\u001b[0m (unbuilt) │\n",
       "├─────────────────────────────────┼────────────────────────┼───────────────┤\n",
       "│ bidirectional_16                │ ?                      │   \u001b[38;5;34m0\u001b[0m (unbuilt) │\n",
       "│ (\u001b[38;5;33mBidirectional\u001b[0m)                 │                        │               │\n",
       "├─────────────────────────────────┼────────────────────────┼───────────────┤\n",
       "│ dropout_16 (\u001b[38;5;33mDropout\u001b[0m)            │ ?                      │             \u001b[38;5;34m0\u001b[0m │\n",
       "├─────────────────────────────────┼────────────────────────┼───────────────┤\n",
       "│ bidirectional_17                │ ?                      │   \u001b[38;5;34m0\u001b[0m (unbuilt) │\n",
       "│ (\u001b[38;5;33mBidirectional\u001b[0m)                 │                        │               │\n",
       "├─────────────────────────────────┼────────────────────────┼───────────────┤\n",
       "│ dense_16 (\u001b[38;5;33mDense\u001b[0m)                │ ?                      │   \u001b[38;5;34m0\u001b[0m (unbuilt) │\n",
       "├─────────────────────────────────┼────────────────────────┼───────────────┤\n",
       "│ dropout_17 (\u001b[38;5;33mDropout\u001b[0m)            │ ?                      │             \u001b[38;5;34m0\u001b[0m │\n",
       "├─────────────────────────────────┼────────────────────────┼───────────────┤\n",
       "│ dense_17 (\u001b[38;5;33mDense\u001b[0m)                │ ?                      │   \u001b[38;5;34m0\u001b[0m (unbuilt) │\n",
       "└─────────────────────────────────┴────────────────────────┴───────────────┘\n"
      ]
     },
     "metadata": {},
     "output_type": "display_data"
    },
    {
     "data": {
      "text/html": [
       "<pre style=\"white-space:pre;overflow-x:auto;line-height:normal;font-family:Menlo,'DejaVu Sans Mono',consolas,'Courier New',monospace\"><span style=\"font-weight: bold\"> Total params: </span><span style=\"color: #00af00; text-decoration-color: #00af00\">0</span> (0.00 B)\n",
       "</pre>\n"
      ],
      "text/plain": [
       "\u001b[1m Total params: \u001b[0m\u001b[38;5;34m0\u001b[0m (0.00 B)\n"
      ]
     },
     "metadata": {},
     "output_type": "display_data"
    },
    {
     "data": {
      "text/html": [
       "<pre style=\"white-space:pre;overflow-x:auto;line-height:normal;font-family:Menlo,'DejaVu Sans Mono',consolas,'Courier New',monospace\"><span style=\"font-weight: bold\"> Trainable params: </span><span style=\"color: #00af00; text-decoration-color: #00af00\">0</span> (0.00 B)\n",
       "</pre>\n"
      ],
      "text/plain": [
       "\u001b[1m Trainable params: \u001b[0m\u001b[38;5;34m0\u001b[0m (0.00 B)\n"
      ]
     },
     "metadata": {},
     "output_type": "display_data"
    },
    {
     "data": {
      "text/html": [
       "<pre style=\"white-space:pre;overflow-x:auto;line-height:normal;font-family:Menlo,'DejaVu Sans Mono',consolas,'Courier New',monospace\"><span style=\"font-weight: bold\"> Non-trainable params: </span><span style=\"color: #00af00; text-decoration-color: #00af00\">0</span> (0.00 B)\n",
       "</pre>\n"
      ],
      "text/plain": [
       "\u001b[1m Non-trainable params: \u001b[0m\u001b[38;5;34m0\u001b[0m (0.00 B)\n"
      ]
     },
     "metadata": {},
     "output_type": "display_data"
    }
   ],
   "source": [
    "# Creating basic architecture\n",
    "# EMBEDDING_DIM = 128\n",
    "\n",
    "def basic_RNN():\n",
    "    model = Sequential([\n",
    "        Embedding(unique_word_count, 128), #, input_length=MAX_LEN  #deprecated?\n",
    "        Bidirectional(LSTM(64, return_sequences=True)),\n",
    "        Dropout(0.5),\n",
    "        Bidirectional(LSTM(32)),\n",
    "        Dense(64, activation='relu'),\n",
    "        Dropout(0.5),\n",
    "        Dense(1, activation='sigmoid')\n",
    "    ])\n",
    "    return model\n",
    "\n",
    "basic_model = basic_RNN()\n",
    "basic_model.summary()"
   ]
  },
  {
   "cell_type": "markdown",
   "id": "a91b75e5-dd6a-4646-8fb6-d91554935b40",
   "metadata": {},
   "source": [
    "Next we'll compile the model. I'll use the Adam optimizer since it'll handle some of the learning rate balancing, and I'll use binary cross-entropy for the loss function. I'll start the learning rate at 0.001 and adjust if it learns too fast/slow.\n",
    "\n",
    "### Model 1"
   ]
  },
  {
   "cell_type": "code",
   "execution_count": 107,
   "id": "19bccc22-2bcc-460a-bf9e-990e68dc19ce",
   "metadata": {},
   "outputs": [],
   "source": [
    "LEARN_RATE = 0.001\n",
    "\n",
    "optimizer = Adam(LEARN_RATE)\n",
    "\n",
    "basic_model.compile(loss='binary_crossentropy',\n",
    "             optimizer=optimizer,\n",
    "             metrics=['accuracy'])"
   ]
  },
  {
   "cell_type": "code",
   "execution_count": 108,
   "id": "2a190214-f965-4e0a-bb3f-292d2fbdf5ba",
   "metadata": {},
   "outputs": [
    {
     "name": "stdout",
     "output_type": "stream",
     "text": [
      "Epoch 1/20\n",
      "\u001b[1m84/84\u001b[0m \u001b[32m━━━━━━━━━━━━━━━━━━━━\u001b[0m\u001b[37m\u001b[0m \u001b[1m4s\u001b[0m 29ms/step - accuracy: 0.9960 - loss: 0.0162 - val_accuracy: 0.7751 - val_loss: 1.3158\n",
      "Epoch 2/20\n",
      "\u001b[1m84/84\u001b[0m \u001b[32m━━━━━━━━━━━━━━━━━━━━\u001b[0m\u001b[37m\u001b[0m \u001b[1m3s\u001b[0m 36ms/step - accuracy: 0.9874 - loss: 0.0256 - val_accuracy: 0.7698 - val_loss: 1.3510\n",
      "Epoch 3/20\n",
      "\u001b[1m84/84\u001b[0m \u001b[32m━━━━━━━━━━━━━━━━━━━━\u001b[0m\u001b[37m\u001b[0m \u001b[1m3s\u001b[0m 38ms/step - accuracy: 0.9918 - loss: 0.0165 - val_accuracy: 0.7593 - val_loss: 1.3790\n",
      "Epoch 4/20\n",
      "\u001b[1m84/84\u001b[0m \u001b[32m━━━━━━━━━━━━━━━━━━━━\u001b[0m\u001b[37m\u001b[0m \u001b[1m3s\u001b[0m 39ms/step - accuracy: 0.9942 - loss: 0.0092 - val_accuracy: 0.7580 - val_loss: 1.6594\n",
      "Epoch 5/20\n",
      "\u001b[1m84/84\u001b[0m \u001b[32m━━━━━━━━━━━━━━━━━━━━\u001b[0m\u001b[37m\u001b[0m \u001b[1m3s\u001b[0m 38ms/step - accuracy: 0.9945 - loss: 0.0091 - val_accuracy: 0.7667 - val_loss: 1.5230\n",
      "Epoch 6/20\n",
      "\u001b[1m84/84\u001b[0m \u001b[32m━━━━━━━━━━━━━━━━━━━━\u001b[0m\u001b[37m\u001b[0m \u001b[1m3s\u001b[0m 39ms/step - accuracy: 0.9939 - loss: 0.0083 - val_accuracy: 0.7567 - val_loss: 1.8781\n",
      "Epoch 7/20\n",
      "\u001b[1m84/84\u001b[0m \u001b[32m━━━━━━━━━━━━━━━━━━━━\u001b[0m\u001b[37m\u001b[0m \u001b[1m3s\u001b[0m 39ms/step - accuracy: 0.9956 - loss: 0.0087 - val_accuracy: 0.7619 - val_loss: 1.8753\n",
      "Epoch 8/20\n",
      "\u001b[1m84/84\u001b[0m \u001b[32m━━━━━━━━━━━━━━━━━━━━\u001b[0m\u001b[37m\u001b[0m \u001b[1m3s\u001b[0m 39ms/step - accuracy: 0.9945 - loss: 0.0082 - val_accuracy: 0.7619 - val_loss: 1.9305\n",
      "Epoch 9/20\n",
      "\u001b[1m84/84\u001b[0m \u001b[32m━━━━━━━━━━━━━━━━━━━━\u001b[0m\u001b[37m\u001b[0m \u001b[1m3s\u001b[0m 39ms/step - accuracy: 0.9940 - loss: 0.0096 - val_accuracy: 0.7562 - val_loss: 1.7200\n",
      "Epoch 10/20\n",
      "\u001b[1m84/84\u001b[0m \u001b[32m━━━━━━━━━━━━━━━━━━━━\u001b[0m\u001b[37m\u001b[0m \u001b[1m3s\u001b[0m 39ms/step - accuracy: 0.9960 - loss: 0.0064 - val_accuracy: 0.7554 - val_loss: 1.8643\n",
      "Epoch 11/20\n",
      "\u001b[1m84/84\u001b[0m \u001b[32m━━━━━━━━━━━━━━━━━━━━\u001b[0m\u001b[37m\u001b[0m \u001b[1m3s\u001b[0m 38ms/step - accuracy: 0.9969 - loss: 0.0083 - val_accuracy: 0.7575 - val_loss: 1.8795\n",
      "Epoch 12/20\n",
      "\u001b[1m84/84\u001b[0m \u001b[32m━━━━━━━━━━━━━━━━━━━━\u001b[0m\u001b[37m\u001b[0m \u001b[1m3s\u001b[0m 39ms/step - accuracy: 0.9939 - loss: 0.0096 - val_accuracy: 0.7575 - val_loss: 1.9030\n",
      "Epoch 13/20\n",
      "\u001b[1m84/84\u001b[0m \u001b[32m━━━━━━━━━━━━━━━━━━━━\u001b[0m\u001b[37m\u001b[0m \u001b[1m3s\u001b[0m 39ms/step - accuracy: 0.9947 - loss: 0.0087 - val_accuracy: 0.7571 - val_loss: 1.9729\n",
      "Epoch 14/20\n",
      "\u001b[1m84/84\u001b[0m \u001b[32m━━━━━━━━━━━━━━━━━━━━\u001b[0m\u001b[37m\u001b[0m \u001b[1m3s\u001b[0m 39ms/step - accuracy: 0.9954 - loss: 0.0087 - val_accuracy: 0.7554 - val_loss: 2.0369\n",
      "Epoch 15/20\n",
      "\u001b[1m84/84\u001b[0m \u001b[32m━━━━━━━━━━━━━━━━━━━━\u001b[0m\u001b[37m\u001b[0m \u001b[1m3s\u001b[0m 39ms/step - accuracy: 0.9923 - loss: 0.0092 - val_accuracy: 0.7567 - val_loss: 2.1209\n",
      "Epoch 16/20\n",
      "\u001b[1m84/84\u001b[0m \u001b[32m━━━━━━━━━━━━━━━━━━━━\u001b[0m\u001b[37m\u001b[0m \u001b[1m3s\u001b[0m 39ms/step - accuracy: 0.9961 - loss: 0.0064 - val_accuracy: 0.7589 - val_loss: 2.0878\n",
      "Epoch 17/20\n",
      "\u001b[1m84/84\u001b[0m \u001b[32m━━━━━━━━━━━━━━━━━━━━\u001b[0m\u001b[37m\u001b[0m \u001b[1m3s\u001b[0m 39ms/step - accuracy: 0.9945 - loss: 0.0094 - val_accuracy: 0.7606 - val_loss: 2.1279\n",
      "Epoch 18/20\n",
      "\u001b[1m84/84\u001b[0m \u001b[32m━━━━━━━━━━━━━━━━━━━━\u001b[0m\u001b[37m\u001b[0m \u001b[1m3s\u001b[0m 39ms/step - accuracy: 0.9967 - loss: 0.0064 - val_accuracy: 0.7510 - val_loss: 2.1430\n",
      "Epoch 19/20\n",
      "\u001b[1m84/84\u001b[0m \u001b[32m━━━━━━━━━━━━━━━━━━━━\u001b[0m\u001b[37m\u001b[0m \u001b[1m3s\u001b[0m 39ms/step - accuracy: 0.9940 - loss: 0.0121 - val_accuracy: 0.7694 - val_loss: 1.2566\n",
      "Epoch 20/20\n",
      "\u001b[1m84/84\u001b[0m \u001b[32m━━━━━━━━━━━━━━━━━━━━\u001b[0m\u001b[37m\u001b[0m \u001b[1m3s\u001b[0m 39ms/step - accuracy: 0.9858 - loss: 0.0479 - val_accuracy: 0.7243 - val_loss: 1.4793\n"
     ]
    }
   ],
   "source": [
    "BATCH_SIZE = 64\n",
    "EPOCHS = 20\n",
    "\n",
    "history1 = basic_model.fit(train_pad, y_train, \n",
    "                epochs=EPOCHS, \n",
    "                batch_size=BATCH_SIZE, \n",
    "                validation_data=(val_pad, y_valid))"
   ]
  },
  {
   "cell_type": "code",
   "execution_count": 113,
   "id": "88201cef-afe2-45a5-bf03-12758c947aad",
   "metadata": {},
   "outputs": [
    {
     "data": {
      "text/plain": [
       "<matplotlib.legend.Legend at 0x31b71e790>"
      ]
     },
     "execution_count": 113,
     "metadata": {},
     "output_type": "execute_result"
    },
    {
     "data": {
      "image/png": "[encoded data removed]",
      "text/plain": [
       "<Figure size 1000x500 with 2 Axes>"
      ]
     },
     "metadata": {},
     "output_type": "display_data"
    }
   ],
   "source": [
    "fig, (ax1, ax2) = plt.subplots(1, 2, figsize=(10, 5))\n",
    "\n",
    "ax1.plot(history1.history['accuracy'], label='accuracy')\n",
    "ax1.plot(history1.history['val_accuracy'], label = 'val_accuracy')\n",
    "ax1.set_xlabel('Epoch')\n",
    "ax1.set_ylabel('Accuracy')\n",
    "ax1.set_ylim([0.5, 1])\n",
    "ax1.set_title('Acc: Learn Rate 0.001')\n",
    "ax1.legend(loc='lower right')\n",
    "\n",
    "ax2.plot(history1.history['loss'], label='loss')\n",
    "ax2.plot(history1.history['val_loss'], label = 'val_loss')\n",
    "ax2.set_xlabel('Epoch')\n",
    "ax2.set_ylabel('Loss')\n",
    "ax2.set_ylim([0, 2.5])\n",
    "ax2.set_title('Loss: Learn Rate 0.001')\n",
    "ax2.legend(loc='lower right')"
   ]
  },
  {
   "cell_type": "code",
   "execution_count": null,
   "id": "52ca0f81-b2b3-4cff-9e42-8b1d40afed72",
   "metadata": {},
   "outputs": [],
   "source": []
  },
  {
   "cell_type": "markdown",
   "id": "b8b38939-689f-409d-b88b-254e350b43ee",
   "metadata": {},
   "source": [
    "#### Results and Analysis\n",
    "Run hyperparameter tuning, try different architectures for comparison, apply techniques to improve training or performance, and discuss what helped.\n",
    "\n",
    "Includes results with tables and figures. There is an analysis of why or why not something worked well, troubleshooting, and a hyperparameter optimization procedure summary."
   ]
  },
  {
   "cell_type": "code",
   "execution_count": null,
   "id": "b29361cb-dba2-4b78-b371-f121f55d258e",
   "metadata": {},
   "outputs": [],
   "source": []
  },
  {
   "cell_type": "markdown",
   "id": "83b5e7c7-1995-4957-ac0b-1e5064051db5",
   "metadata": {},
   "source": [
    "#### Conclusion\n",
    "Discuss and interpret results as well as learnings and takeaways. What did and did not help improve the performance of your models? What improvements could you try in the future?"
   ]
  },
  {
   "cell_type": "markdown",
   "id": "9b67ffa0-9ad7-42da-9dda-c6407c3e8a73",
   "metadata": {},
   "source": [
    "This first run didn't quite go like I expected. It seems like it immediately converged into something incorrect, given that accuracy for the validation set is pretty stable at around .76 (and even somewhat decreases) as more epochs gets added, while the training set accuracy is almost a 1. \n",
    "\n",
    "That likely means right from the start, the model is overfitting way too much, so I likely need to slow down the model/fitting. I'm going to try lowering the learning rate all the way to 0.0001, and increase the epoch count to see what results I get.\n",
    "\n",
    "### Model 2"
   ]
  },
  {
   "cell_type": "code",
   "execution_count": 119,
   "id": "51bc82be-a47f-49d4-ac06-b3d515e30325",
   "metadata": {},
   "outputs": [
    {
     "name": "stdout",
     "output_type": "stream",
     "text": [
      "Epoch 1/30\n",
      "\u001b[1m84/84\u001b[0m \u001b[32m━━━━━━━━━━━━━━━━━━━━\u001b[0m\u001b[37m\u001b[0m \u001b[1m5s\u001b[0m 28ms/step - accuracy: 0.5441 - loss: 0.6896 - val_accuracy: 0.5702 - val_loss: 0.6691\n",
      "Epoch 2/30\n",
      "\u001b[1m84/84\u001b[0m \u001b[32m━━━━━━━━━━━━━━━━━━━━\u001b[0m\u001b[37m\u001b[0m \u001b[1m3s\u001b[0m 36ms/step - accuracy: 0.5876 - loss: 0.6604 - val_accuracy: 0.7063 - val_loss: 0.6134\n",
      "Epoch 3/30\n",
      "\u001b[1m84/84\u001b[0m \u001b[32m━━━━━━━━━━━━━━━━━━━━\u001b[0m\u001b[37m\u001b[0m \u001b[1m3s\u001b[0m 38ms/step - accuracy: 0.7732 - loss: 0.5576 - val_accuracy: 0.7982 - val_loss: 0.4572\n",
      "Epoch 4/30\n",
      "\u001b[1m84/84\u001b[0m \u001b[32m━━━━━━━━━━━━━━━━━━━━\u001b[0m\u001b[37m\u001b[0m \u001b[1m3s\u001b[0m 40ms/step - accuracy: 0.8714 - loss: 0.3480 - val_accuracy: 0.8057 - val_loss: 0.4520\n",
      "Epoch 5/30\n",
      "\u001b[1m84/84\u001b[0m \u001b[32m━━━━━━━━━━━━━━━━━━━━\u001b[0m\u001b[37m\u001b[0m \u001b[1m3s\u001b[0m 40ms/step - accuracy: 0.9251 - loss: 0.2199 - val_accuracy: 0.7899 - val_loss: 0.5043\n",
      "Epoch 6/30\n",
      "\u001b[1m84/84\u001b[0m \u001b[32m━━━━━━━━━━━━━━━━━━━━\u001b[0m\u001b[37m\u001b[0m \u001b[1m3s\u001b[0m 40ms/step - accuracy: 0.9538 - loss: 0.1414 - val_accuracy: 0.7921 - val_loss: 0.5901\n",
      "Epoch 7/30\n",
      "\u001b[1m84/84\u001b[0m \u001b[32m━━━━━━━━━━━━━━━━━━━━\u001b[0m\u001b[37m\u001b[0m \u001b[1m3s\u001b[0m 40ms/step - accuracy: 0.9723 - loss: 0.0932 - val_accuracy: 0.7917 - val_loss: 0.6999\n",
      "Epoch 8/30\n",
      "\u001b[1m84/84\u001b[0m \u001b[32m━━━━━━━━━━━━━━━━━━━━\u001b[0m\u001b[37m\u001b[0m \u001b[1m3s\u001b[0m 40ms/step - accuracy: 0.9798 - loss: 0.0656 - val_accuracy: 0.7733 - val_loss: 0.7699\n",
      "Epoch 9/30\n",
      "\u001b[1m84/84\u001b[0m \u001b[32m━━━━━━━━━━━━━━━━━━━━\u001b[0m\u001b[37m\u001b[0m \u001b[1m3s\u001b[0m 41ms/step - accuracy: 0.9867 - loss: 0.0442 - val_accuracy: 0.7746 - val_loss: 0.8164\n",
      "Epoch 10/30\n",
      "\u001b[1m84/84\u001b[0m \u001b[32m━━━━━━━━━━━━━━━━━━━━\u001b[0m\u001b[37m\u001b[0m \u001b[1m3s\u001b[0m 39ms/step - accuracy: 0.9865 - loss: 0.0427 - val_accuracy: 0.7825 - val_loss: 0.8212\n",
      "Epoch 11/30\n",
      "\u001b[1m84/84\u001b[0m \u001b[32m━━━━━━━━━━━━━━━━━━━━\u001b[0m\u001b[37m\u001b[0m \u001b[1m3s\u001b[0m 39ms/step - accuracy: 0.9912 - loss: 0.0330 - val_accuracy: 0.7729 - val_loss: 0.9008\n",
      "Epoch 12/30\n",
      "\u001b[1m84/84\u001b[0m \u001b[32m━━━━━━━━━━━━━━━━━━━━\u001b[0m\u001b[37m\u001b[0m \u001b[1m3s\u001b[0m 41ms/step - accuracy: 0.9957 - loss: 0.0188 - val_accuracy: 0.7724 - val_loss: 0.9250\n",
      "Epoch 13/30\n",
      "\u001b[1m84/84\u001b[0m \u001b[32m━━━━━━━━━━━━━━━━━━━━\u001b[0m\u001b[37m\u001b[0m \u001b[1m3s\u001b[0m 40ms/step - accuracy: 0.9945 - loss: 0.0266 - val_accuracy: 0.7737 - val_loss: 0.9166\n",
      "Epoch 14/30\n",
      "\u001b[1m84/84\u001b[0m \u001b[32m━━━━━━━━━━━━━━━━━━━━\u001b[0m\u001b[37m\u001b[0m \u001b[1m3s\u001b[0m 40ms/step - accuracy: 0.9951 - loss: 0.0180 - val_accuracy: 0.7689 - val_loss: 0.9430\n",
      "Epoch 15/30\n",
      "\u001b[1m84/84\u001b[0m \u001b[32m━━━━━━━━━━━━━━━━━━━━\u001b[0m\u001b[37m\u001b[0m \u001b[1m3s\u001b[0m 40ms/step - accuracy: 0.9899 - loss: 0.0306 - val_accuracy: 0.7619 - val_loss: 0.9624\n",
      "Epoch 16/30\n",
      "\u001b[1m84/84\u001b[0m \u001b[32m━━━━━━━━━━━━━━━━━━━━\u001b[0m\u001b[37m\u001b[0m \u001b[1m3s\u001b[0m 39ms/step - accuracy: 0.9933 - loss: 0.0196 - val_accuracy: 0.7856 - val_loss: 0.9609\n",
      "Epoch 17/30\n",
      "\u001b[1m84/84\u001b[0m \u001b[32m━━━━━━━━━━━━━━━━━━━━\u001b[0m\u001b[37m\u001b[0m \u001b[1m3s\u001b[0m 40ms/step - accuracy: 0.9930 - loss: 0.0202 - val_accuracy: 0.7847 - val_loss: 1.0266\n",
      "Epoch 18/30\n",
      "\u001b[1m84/84\u001b[0m \u001b[32m━━━━━━━━━━━━━━━━━━━━\u001b[0m\u001b[37m\u001b[0m \u001b[1m3s\u001b[0m 40ms/step - accuracy: 0.9939 - loss: 0.0191 - val_accuracy: 0.7374 - val_loss: 1.1101\n",
      "Epoch 19/30\n",
      "\u001b[1m84/84\u001b[0m \u001b[32m━━━━━━━━━━━━━━━━━━━━\u001b[0m\u001b[37m\u001b[0m \u001b[1m3s\u001b[0m 40ms/step - accuracy: 0.9952 - loss: 0.0177 - val_accuracy: 0.7786 - val_loss: 0.9832\n",
      "Epoch 20/30\n",
      "\u001b[1m84/84\u001b[0m \u001b[32m━━━━━━━━━━━━━━━━━━━━\u001b[0m\u001b[37m\u001b[0m \u001b[1m3s\u001b[0m 40ms/step - accuracy: 0.9960 - loss: 0.0133 - val_accuracy: 0.7825 - val_loss: 0.9785\n",
      "Epoch 21/30\n",
      "\u001b[1m84/84\u001b[0m \u001b[32m━━━━━━━━━━━━━━━━━━━━\u001b[0m\u001b[37m\u001b[0m \u001b[1m3s\u001b[0m 41ms/step - accuracy: 0.9952 - loss: 0.0158 - val_accuracy: 0.7554 - val_loss: 1.0138\n",
      "Epoch 22/30\n",
      "\u001b[1m84/84\u001b[0m \u001b[32m━━━━━━━━━━━━━━━━━━━━\u001b[0m\u001b[37m\u001b[0m \u001b[1m3s\u001b[0m 38ms/step - accuracy: 0.9947 - loss: 0.0144 - val_accuracy: 0.7707 - val_loss: 1.0260\n",
      "Epoch 23/30\n",
      "\u001b[1m84/84\u001b[0m \u001b[32m━━━━━━━━━━━━━━━━━━━━\u001b[0m\u001b[37m\u001b[0m \u001b[1m3s\u001b[0m 37ms/step - accuracy: 0.9944 - loss: 0.0160 - val_accuracy: 0.7650 - val_loss: 1.0525\n",
      "Epoch 24/30\n",
      "\u001b[1m84/84\u001b[0m \u001b[32m━━━━━━━━━━━━━━━━━━━━\u001b[0m\u001b[37m\u001b[0m \u001b[1m3s\u001b[0m 38ms/step - accuracy: 0.9930 - loss: 0.0151 - val_accuracy: 0.7768 - val_loss: 1.0402\n",
      "Epoch 25/30\n",
      "\u001b[1m84/84\u001b[0m \u001b[32m━━━━━━━━━━━━━━━━━━━━\u001b[0m\u001b[37m\u001b[0m \u001b[1m3s\u001b[0m 40ms/step - accuracy: 0.9943 - loss: 0.0161 - val_accuracy: 0.7689 - val_loss: 1.0495\n",
      "Epoch 26/30\n",
      "\u001b[1m84/84\u001b[0m \u001b[32m━━━━━━━━━━━━━━━━━━━━\u001b[0m\u001b[37m\u001b[0m \u001b[1m3s\u001b[0m 40ms/step - accuracy: 0.9945 - loss: 0.0152 - val_accuracy: 0.7462 - val_loss: 1.1026\n",
      "Epoch 27/30\n",
      "\u001b[1m84/84\u001b[0m \u001b[32m━━━━━━━━━━━━━━━━━━━━\u001b[0m\u001b[37m\u001b[0m \u001b[1m3s\u001b[0m 40ms/step - accuracy: 0.9928 - loss: 0.0205 - val_accuracy: 0.7689 - val_loss: 1.0269\n",
      "Epoch 28/30\n",
      "\u001b[1m84/84\u001b[0m \u001b[32m━━━━━━━━━━━━━━━━━━━━\u001b[0m\u001b[37m\u001b[0m \u001b[1m3s\u001b[0m 40ms/step - accuracy: 0.9944 - loss: 0.0130 - val_accuracy: 0.7667 - val_loss: 1.0651\n",
      "Epoch 29/30\n",
      "\u001b[1m84/84\u001b[0m \u001b[32m━━━━━━━━━━━━━━━━━━━━\u001b[0m\u001b[37m\u001b[0m \u001b[1m3s\u001b[0m 40ms/step - accuracy: 0.9959 - loss: 0.0098 - val_accuracy: 0.7799 - val_loss: 1.1381\n",
      "Epoch 30/30\n",
      "\u001b[1m84/84\u001b[0m \u001b[32m━━━━━━━━━━━━━━━━━━━━\u001b[0m\u001b[37m\u001b[0m \u001b[1m3s\u001b[0m 39ms/step - accuracy: 0.9938 - loss: 0.0141 - val_accuracy: 0.7444 - val_loss: 1.1246\n"
     ]
    }
   ],
   "source": [
    "basic_model2 = basic_RNN()\n",
    "LEARN_RATE = 0.0001\n",
    "\n",
    "optimizer = Adam(LEARN_RATE)\n",
    "\n",
    "basic_model2.compile(loss='binary_crossentropy',\n",
    "             optimizer=optimizer,\n",
    "             metrics=['accuracy'])\n",
    "\n",
    "BATCH_SIZE = 64\n",
    "EPOCHS = 30\n",
    "\n",
    "history2 = basic_model2.fit(train_pad, y_train, \n",
    "                epochs=EPOCHS, \n",
    "                batch_size=BATCH_SIZE, \n",
    "                validation_data=(val_pad, y_valid))"
   ]
  },
  {
   "cell_type": "code",
   "execution_count": 120,
   "id": "d532c2c4-468b-4234-97e3-d6d6e5562bff",
   "metadata": {},
   "outputs": [
    {
     "data": {
      "text/plain": [
       "<matplotlib.legend.Legend at 0x32498c650>"
      ]
     },
     "execution_count": 120,
     "metadata": {},
     "output_type": "execute_result"
    },
    {
     "data": {
      "image/png": "[encoded data removed]",
      "text/plain": [
       "<Figure size 1000x500 with 2 Axes>"
      ]
     },
     "metadata": {},
     "output_type": "display_data"
    }
   ],
   "source": [
    "fig, (ax1, ax2) = plt.subplots(1, 2, figsize=(10, 5))\n",
    "\n",
    "ax1.plot(history2.history['accuracy'], label='accuracy')\n",
    "ax1.plot(history2.history['val_accuracy'], label = 'val_accuracy')\n",
    "ax1.set_xlabel('Epoch')\n",
    "ax1.set_ylabel('Accuracy')\n",
    "ax1.set_ylim([0.5, 1])\n",
    "ax1.set_title('Acc: Learn Rate 0.0001')\n",
    "ax1.legend(loc='lower right')\n",
    "\n",
    "ax2.plot(history2.history['loss'], label='loss')\n",
    "ax2.plot(history2.history['val_loss'], label = 'val_loss')\n",
    "ax2.set_xlabel('Epoch')\n",
    "ax2.set_ylabel('Loss')\n",
    "ax2.set_ylim([0, 2.5])\n",
    "ax2.set_title('Loss: Learn Rate 0.0001')\n",
    "ax2.legend(loc='lower right')"
   ]
  },
  {
   "cell_type": "markdown",
   "id": "b46bec51-51d9-482d-a4c7-057b807a783b",
   "metadata": {},
   "source": [
    "Unfortunately, slowing down the learning rate to 0.0001 doesn't seem to be enough still. While it doesn't immediately converge like before, it still converges very quickly, and the shows signs of overfitting. I'll try one more time with tuning the learning rate, all the way to 0.00001 and increasing the epoch count to 50 to give it more time. \n",
    "\n",
    "### Model 3"
   ]
  },
  {
   "cell_type": "code",
   "execution_count": 121,
   "id": "59ea6fcd-059c-4a31-b5dd-0455733ca53f",
   "metadata": {},
   "outputs": [
    {
     "name": "stdout",
     "output_type": "stream",
     "text": [
      "Epoch 1/50\n",
      "\u001b[1m84/84\u001b[0m \u001b[32m━━━━━━━━━━━━━━━━━━━━\u001b[0m\u001b[37m\u001b[0m \u001b[1m4s\u001b[0m 30ms/step - accuracy: 0.5361 - loss: 0.6922 - val_accuracy: 0.5746 - val_loss: 0.6903\n",
      "Epoch 2/50\n",
      "\u001b[1m84/84\u001b[0m \u001b[32m━━━━━━━━━━━━━━━━━━━━\u001b[0m\u001b[37m\u001b[0m \u001b[1m3s\u001b[0m 39ms/step - accuracy: 0.5523 - loss: 0.6906 - val_accuracy: 0.5698 - val_loss: 0.6881\n",
      "Epoch 3/50\n",
      "\u001b[1m84/84\u001b[0m \u001b[32m━━━━━━━━━━━━━━━━━━━━\u001b[0m\u001b[37m\u001b[0m \u001b[1m3s\u001b[0m 40ms/step - accuracy: 0.5784 - loss: 0.6877 - val_accuracy: 0.5702 - val_loss: 0.6855\n",
      "Epoch 4/50\n",
      "\u001b[1m84/84\u001b[0m \u001b[32m━━━━━━━━━━━━━━━━━━━━\u001b[0m\u001b[37m\u001b[0m \u001b[1m3s\u001b[0m 41ms/step - accuracy: 0.5781 - loss: 0.6862 - val_accuracy: 0.5702 - val_loss: 0.6827\n",
      "Epoch 5/50\n",
      "\u001b[1m84/84\u001b[0m \u001b[32m━━━━━━━━━━━━━━━━━━━━\u001b[0m\u001b[37m\u001b[0m \u001b[1m3s\u001b[0m 41ms/step - accuracy: 0.5656 - loss: 0.6833 - val_accuracy: 0.5702 - val_loss: 0.6794\n",
      "Epoch 6/50\n",
      "\u001b[1m84/84\u001b[0m \u001b[32m━━━━━━━━━━━━━━━━━━━━\u001b[0m\u001b[37m\u001b[0m \u001b[1m3s\u001b[0m 42ms/step - accuracy: 0.5645 - loss: 0.6802 - val_accuracy: 0.5702 - val_loss: 0.6757\n",
      "Epoch 7/50\n",
      "\u001b[1m84/84\u001b[0m \u001b[32m━━━━━━━━━━━━━━━━━━━━\u001b[0m\u001b[37m\u001b[0m \u001b[1m4s\u001b[0m 42ms/step - accuracy: 0.5625 - loss: 0.6769 - val_accuracy: 0.5702 - val_loss: 0.6723\n",
      "Epoch 8/50\n",
      "\u001b[1m84/84\u001b[0m \u001b[32m━━━━━━━━━━━━━━━━━━━━\u001b[0m\u001b[37m\u001b[0m \u001b[1m4s\u001b[0m 42ms/step - accuracy: 0.5800 - loss: 0.6718 - val_accuracy: 0.5702 - val_loss: 0.6693\n",
      "Epoch 9/50\n",
      "\u001b[1m84/84\u001b[0m \u001b[32m━━━━━━━━━━━━━━━━━━━━\u001b[0m\u001b[37m\u001b[0m \u001b[1m3s\u001b[0m 41ms/step - accuracy: 0.5669 - loss: 0.6699 - val_accuracy: 0.5707 - val_loss: 0.6666\n",
      "Epoch 10/50\n",
      "\u001b[1m84/84\u001b[0m \u001b[32m━━━━━━━━━━━━━━━━━━━━\u001b[0m\u001b[37m\u001b[0m \u001b[1m4s\u001b[0m 42ms/step - accuracy: 0.5747 - loss: 0.6690 - val_accuracy: 0.5733 - val_loss: 0.6643\n",
      "Epoch 11/50\n",
      "\u001b[1m84/84\u001b[0m \u001b[32m━━━━━━━━━━━━━━━━━━━━\u001b[0m\u001b[37m\u001b[0m \u001b[1m4s\u001b[0m 42ms/step - accuracy: 0.5782 - loss: 0.6647 - val_accuracy: 0.5790 - val_loss: 0.6618\n",
      "Epoch 12/50\n",
      "\u001b[1m84/84\u001b[0m \u001b[32m━━━━━━━━━━━━━━━━━━━━\u001b[0m\u001b[37m\u001b[0m \u001b[1m4s\u001b[0m 42ms/step - accuracy: 0.5984 - loss: 0.6591 - val_accuracy: 0.5917 - val_loss: 0.6592\n",
      "Epoch 13/50\n",
      "\u001b[1m84/84\u001b[0m \u001b[32m━━━━━━━━━━━━━━━━━━━━\u001b[0m\u001b[37m\u001b[0m \u001b[1m4s\u001b[0m 42ms/step - accuracy: 0.6169 - loss: 0.6575 - val_accuracy: 0.6057 - val_loss: 0.6557\n",
      "Epoch 14/50\n",
      "\u001b[1m84/84\u001b[0m \u001b[32m━━━━━━━━━━━━━━━━━━━━\u001b[0m\u001b[37m\u001b[0m \u001b[1m4s\u001b[0m 42ms/step - accuracy: 0.6391 - loss: 0.6551 - val_accuracy: 0.6179 - val_loss: 0.6519\n",
      "Epoch 15/50\n",
      "\u001b[1m84/84\u001b[0m \u001b[32m━━━━━━━━━━━━━━━━━━━━\u001b[0m\u001b[37m\u001b[0m \u001b[1m4s\u001b[0m 42ms/step - accuracy: 0.6578 - loss: 0.6443 - val_accuracy: 0.6302 - val_loss: 0.6471\n",
      "Epoch 16/50\n",
      "\u001b[1m84/84\u001b[0m \u001b[32m━━━━━━━━━━━━━━━━━━━━\u001b[0m\u001b[37m\u001b[0m \u001b[1m4s\u001b[0m 42ms/step - accuracy: 0.6719 - loss: 0.6401 - val_accuracy: 0.6368 - val_loss: 0.6406\n",
      "Epoch 17/50\n",
      "\u001b[1m84/84\u001b[0m \u001b[32m━━━━━━━━━━━━━━━━━━━━\u001b[0m\u001b[37m\u001b[0m \u001b[1m4s\u001b[0m 42ms/step - accuracy: 0.6896 - loss: 0.6320 - val_accuracy: 0.6499 - val_loss: 0.6320\n",
      "Epoch 18/50\n",
      "\u001b[1m84/84\u001b[0m \u001b[32m━━━━━━━━━━━━━━━━━━━━\u001b[0m\u001b[37m\u001b[0m \u001b[1m4s\u001b[0m 42ms/step - accuracy: 0.7032 - loss: 0.6262 - val_accuracy: 0.6700 - val_loss: 0.6206\n",
      "Epoch 19/50\n",
      "\u001b[1m84/84\u001b[0m \u001b[32m━━━━━━━━━━━━━━━━━━━━\u001b[0m\u001b[37m\u001b[0m \u001b[1m4s\u001b[0m 42ms/step - accuracy: 0.7292 - loss: 0.6043 - val_accuracy: 0.6963 - val_loss: 0.6034\n",
      "Epoch 20/50\n",
      "\u001b[1m84/84\u001b[0m \u001b[32m━━━━━━━━━━━━━━━━━━━━\u001b[0m\u001b[37m\u001b[0m \u001b[1m4s\u001b[0m 42ms/step - accuracy: 0.7507 - loss: 0.5801 - val_accuracy: 0.7269 - val_loss: 0.5789\n",
      "Epoch 21/50\n",
      "\u001b[1m84/84\u001b[0m \u001b[32m━━━━━━━━━━━━━━━━━━━━\u001b[0m\u001b[37m\u001b[0m \u001b[1m4s\u001b[0m 42ms/step - accuracy: 0.7754 - loss: 0.5582 - val_accuracy: 0.7567 - val_loss: 0.5497\n",
      "Epoch 22/50\n",
      "\u001b[1m84/84\u001b[0m \u001b[32m━━━━━━━━━━━━━━━━━━━━\u001b[0m\u001b[37m\u001b[0m \u001b[1m4s\u001b[0m 42ms/step - accuracy: 0.8066 - loss: 0.5152 - val_accuracy: 0.7751 - val_loss: 0.5207\n",
      "Epoch 23/50\n",
      "\u001b[1m84/84\u001b[0m \u001b[32m━━━━━━━━━━━━━━━━━━━━\u001b[0m\u001b[37m\u001b[0m \u001b[1m4s\u001b[0m 42ms/step - accuracy: 0.8303 - loss: 0.4772 - val_accuracy: 0.7737 - val_loss: 0.4965\n",
      "Epoch 24/50\n",
      "\u001b[1m84/84\u001b[0m \u001b[32m━━━━━━━━━━━━━━━━━━━━\u001b[0m\u001b[37m\u001b[0m \u001b[1m4s\u001b[0m 42ms/step - accuracy: 0.8417 - loss: 0.4309 - val_accuracy: 0.7851 - val_loss: 0.4785\n",
      "Epoch 25/50\n",
      "\u001b[1m84/84\u001b[0m \u001b[32m━━━━━━━━━━━━━━━━━━━━\u001b[0m\u001b[37m\u001b[0m \u001b[1m4s\u001b[0m 42ms/step - accuracy: 0.8586 - loss: 0.4015 - val_accuracy: 0.7912 - val_loss: 0.4653\n",
      "Epoch 26/50\n",
      "\u001b[1m84/84\u001b[0m \u001b[32m━━━━━━━━━━━━━━━━━━━━\u001b[0m\u001b[37m\u001b[0m \u001b[1m4s\u001b[0m 42ms/step - accuracy: 0.8746 - loss: 0.3640 - val_accuracy: 0.7956 - val_loss: 0.4593\n",
      "Epoch 27/50\n",
      "\u001b[1m84/84\u001b[0m \u001b[32m━━━━━━━━━━━━━━━━━━━━\u001b[0m\u001b[37m\u001b[0m \u001b[1m4s\u001b[0m 42ms/step - accuracy: 0.8879 - loss: 0.3250 - val_accuracy: 0.7982 - val_loss: 0.4591\n",
      "Epoch 28/50\n",
      "\u001b[1m84/84\u001b[0m \u001b[32m━━━━━━━━━━━━━━━━━━━━\u001b[0m\u001b[37m\u001b[0m \u001b[1m4s\u001b[0m 42ms/step - accuracy: 0.8953 - loss: 0.3102 - val_accuracy: 0.8004 - val_loss: 0.4598\n",
      "Epoch 29/50\n",
      "\u001b[1m84/84\u001b[0m \u001b[32m━━━━━━━━━━━━━━━━━━━━\u001b[0m\u001b[37m\u001b[0m \u001b[1m4s\u001b[0m 42ms/step - accuracy: 0.9080 - loss: 0.2869 - val_accuracy: 0.8026 - val_loss: 0.4626\n",
      "Epoch 30/50\n",
      "\u001b[1m84/84\u001b[0m \u001b[32m━━━━━━━━━━━━━━━━━━━━\u001b[0m\u001b[37m\u001b[0m \u001b[1m4s\u001b[0m 42ms/step - accuracy: 0.9145 - loss: 0.2596 - val_accuracy: 0.8044 - val_loss: 0.4684\n",
      "Epoch 31/50\n",
      "\u001b[1m84/84\u001b[0m \u001b[32m━━━━━━━━━━━━━━━━━━━━\u001b[0m\u001b[37m\u001b[0m \u001b[1m4s\u001b[0m 42ms/step - accuracy: 0.9106 - loss: 0.2702 - val_accuracy: 0.8039 - val_loss: 0.4729\n",
      "Epoch 32/50\n",
      "\u001b[1m84/84\u001b[0m \u001b[32m━━━━━━━━━━━━━━━━━━━━\u001b[0m\u001b[37m\u001b[0m \u001b[1m4s\u001b[0m 42ms/step - accuracy: 0.9213 - loss: 0.2471 - val_accuracy: 0.8048 - val_loss: 0.4827\n",
      "Epoch 33/50\n",
      "\u001b[1m84/84\u001b[0m \u001b[32m━━━━━━━━━━━━━━━━━━━━\u001b[0m\u001b[37m\u001b[0m \u001b[1m4s\u001b[0m 42ms/step - accuracy: 0.9213 - loss: 0.2332 - val_accuracy: 0.8035 - val_loss: 0.4907\n",
      "Epoch 34/50\n",
      "\u001b[1m84/84\u001b[0m \u001b[32m━━━━━━━━━━━━━━━━━━━━\u001b[0m\u001b[37m\u001b[0m \u001b[1m4s\u001b[0m 42ms/step - accuracy: 0.9362 - loss: 0.2179 - val_accuracy: 0.8022 - val_loss: 0.5035\n",
      "Epoch 35/50\n",
      "\u001b[1m84/84\u001b[0m \u001b[32m━━━━━━━━━━━━━━━━━━━━\u001b[0m\u001b[37m\u001b[0m \u001b[1m4s\u001b[0m 43ms/step - accuracy: 0.9384 - loss: 0.2051 - val_accuracy: 0.8009 - val_loss: 0.5108\n",
      "Epoch 36/50\n",
      "\u001b[1m84/84\u001b[0m \u001b[32m━━━━━━━━━━━━━━━━━━━━\u001b[0m\u001b[37m\u001b[0m \u001b[1m4s\u001b[0m 42ms/step - accuracy: 0.9407 - loss: 0.1977 - val_accuracy: 0.8004 - val_loss: 0.5240\n",
      "Epoch 37/50\n",
      "\u001b[1m84/84\u001b[0m \u001b[32m━━━━━━━━━━━━━━━━━━━━\u001b[0m\u001b[37m\u001b[0m \u001b[1m3s\u001b[0m 41ms/step - accuracy: 0.9495 - loss: 0.1826 - val_accuracy: 0.8004 - val_loss: 0.5339\n",
      "Epoch 38/50\n",
      "\u001b[1m84/84\u001b[0m \u001b[32m━━━━━━━━━━━━━━━━━━━━\u001b[0m\u001b[37m\u001b[0m \u001b[1m4s\u001b[0m 42ms/step - accuracy: 0.9562 - loss: 0.1628 - val_accuracy: 0.7996 - val_loss: 0.5442\n",
      "Epoch 39/50\n",
      "\u001b[1m84/84\u001b[0m \u001b[32m━━━━━━━━━━━━━━━━━━━━\u001b[0m\u001b[37m\u001b[0m \u001b[1m4s\u001b[0m 42ms/step - accuracy: 0.9561 - loss: 0.1617 - val_accuracy: 0.8004 - val_loss: 0.5558\n",
      "Epoch 40/50\n",
      "\u001b[1m84/84\u001b[0m \u001b[32m━━━━━━━━━━━━━━━━━━━━\u001b[0m\u001b[37m\u001b[0m \u001b[1m4s\u001b[0m 42ms/step - accuracy: 0.9630 - loss: 0.1451 - val_accuracy: 0.7991 - val_loss: 0.5698\n",
      "Epoch 41/50\n",
      "\u001b[1m84/84\u001b[0m \u001b[32m━━━━━━━━━━━━━━━━━━━━\u001b[0m\u001b[37m\u001b[0m \u001b[1m3s\u001b[0m 40ms/step - accuracy: 0.9605 - loss: 0.1426 - val_accuracy: 0.7996 - val_loss: 0.5795\n",
      "Epoch 42/50\n",
      "\u001b[1m84/84\u001b[0m \u001b[32m━━━━━━━━━━━━━━━━━━━━\u001b[0m\u001b[37m\u001b[0m \u001b[1m4s\u001b[0m 43ms/step - accuracy: 0.9685 - loss: 0.1252 - val_accuracy: 0.7987 - val_loss: 0.5928\n",
      "Epoch 43/50\n",
      "\u001b[1m84/84\u001b[0m \u001b[32m━━━━━━━━━━━━━━━━━━━━\u001b[0m\u001b[37m\u001b[0m \u001b[1m4s\u001b[0m 43ms/step - accuracy: 0.9706 - loss: 0.1189 - val_accuracy: 0.7996 - val_loss: 0.6051\n",
      "Epoch 44/50\n",
      "\u001b[1m84/84\u001b[0m \u001b[32m━━━━━━━━━━━━━━━━━━━━\u001b[0m\u001b[37m\u001b[0m \u001b[1m4s\u001b[0m 42ms/step - accuracy: 0.9706 - loss: 0.1174 - val_accuracy: 0.7943 - val_loss: 0.6166\n",
      "Epoch 45/50\n",
      "\u001b[1m84/84\u001b[0m \u001b[32m━━━━━━━━━━━━━━━━━━━━\u001b[0m\u001b[37m\u001b[0m \u001b[1m4s\u001b[0m 43ms/step - accuracy: 0.9742 - loss: 0.1100 - val_accuracy: 0.7939 - val_loss: 0.6298\n",
      "Epoch 46/50\n",
      "\u001b[1m84/84\u001b[0m \u001b[32m━━━━━━━━━━━━━━━━━━━━\u001b[0m\u001b[37m\u001b[0m \u001b[1m4s\u001b[0m 42ms/step - accuracy: 0.9757 - loss: 0.1061 - val_accuracy: 0.7930 - val_loss: 0.6450\n",
      "Epoch 47/50\n",
      "\u001b[1m84/84\u001b[0m \u001b[32m━━━━━━━━━━━━━━━━━━━━\u001b[0m\u001b[37m\u001b[0m \u001b[1m3s\u001b[0m 41ms/step - accuracy: 0.9789 - loss: 0.0980 - val_accuracy: 0.7873 - val_loss: 0.6624\n",
      "Epoch 48/50\n",
      "\u001b[1m84/84\u001b[0m \u001b[32m━━━━━━━━━━━━━━━━━━━━\u001b[0m\u001b[37m\u001b[0m \u001b[1m3s\u001b[0m 41ms/step - accuracy: 0.9807 - loss: 0.0873 - val_accuracy: 0.7912 - val_loss: 0.6720\n",
      "Epoch 49/50\n",
      "\u001b[1m84/84\u001b[0m \u001b[32m━━━━━━━━━━━━━━━━━━━━\u001b[0m\u001b[37m\u001b[0m \u001b[1m3s\u001b[0m 41ms/step - accuracy: 0.9806 - loss: 0.0866 - val_accuracy: 0.7860 - val_loss: 0.6911\n",
      "Epoch 50/50\n",
      "\u001b[1m84/84\u001b[0m \u001b[32m━━━━━━━━━━━━━━━━━━━━\u001b[0m\u001b[37m\u001b[0m \u001b[1m3s\u001b[0m 41ms/step - accuracy: 0.9831 - loss: 0.0861 - val_accuracy: 0.7895 - val_loss: 0.6985\n"
     ]
    }
   ],
   "source": [
    "basic_model3 = basic_RNN()\n",
    "LEARN_RATE = 0.00001\n",
    "\n",
    "optimizer = Adam(LEARN_RATE)\n",
    "\n",
    "basic_model3.compile(loss='binary_crossentropy',\n",
    "             optimizer=optimizer,\n",
    "             metrics=['accuracy'])\n",
    "\n",
    "BATCH_SIZE = 64\n",
    "EPOCHS = 50\n",
    "\n",
    "history3 = basic_model3.fit(train_pad, y_train, \n",
    "                epochs=EPOCHS, \n",
    "                batch_size=BATCH_SIZE, \n",
    "                validation_data=(val_pad, y_valid))"
   ]
  },
  {
   "cell_type": "code",
   "execution_count": 122,
   "id": "e27eda8b-95b1-4dec-94f8-60e0243272d1",
   "metadata": {},
   "outputs": [
    {
     "data": {
      "text/plain": [
       "<matplotlib.legend.Legend at 0x35cbe51d0>"
      ]
     },
     "execution_count": 122,
     "metadata": {},
     "output_type": "execute_result"
    },
    {
     "data": {
      "image/png": "[encoded data removed]",
      "text/plain": [
       "<Figure size 1000x500 with 2 Axes>"
      ]
     },
     "metadata": {},
     "output_type": "display_data"
    }
   ],
   "source": [
    "fig, (ax1, ax2) = plt.subplots(1, 2, figsize=(10, 5))\n",
    "\n",
    "ax1.plot(history3.history['accuracy'], label='accuracy')\n",
    "ax1.plot(history3.history['val_accuracy'], label = 'val_accuracy')\n",
    "ax1.set_xlabel('Epoch')\n",
    "ax1.set_ylabel('Accuracy')\n",
    "ax1.set_ylim([0.5, 1])\n",
    "ax1.set_title('Acc: Learn Rate 0.00001')\n",
    "ax1.legend(loc='lower right')\n",
    "\n",
    "ax2.plot(history3.history['loss'], label='loss')\n",
    "ax2.plot(history3.history['val_loss'], label = 'val_loss')\n",
    "ax2.set_xlabel('Epoch')\n",
    "ax2.set_ylabel('Loss')\n",
    "ax2.set_ylim([0, 2.5])\n",
    "ax2.set_title('Loss: Learn Rate 0.00001')\n",
    "ax2.legend(loc='lower right')"
   ]
  },
  {
   "cell_type": "markdown",
   "id": "bb22babd-915f-471a-a0cd-032bf2325258",
   "metadata": {},
   "source": [
    "The good news is that there's a much nicer looking curve, and it doesn't overfit too quickly. The bad news is that the accuracy is still maxing out at 0.8, so the actual accuracy hasn't really improved by lowering the learning rate. This likely means there's either some other other hyperparamter I need to tune, there might be issues with how I preprocessed the data, or the model itself needs changes."
   ]
  },
  {
   "cell_type": "code",
   "execution_count": null,
   "id": "2f101a24-641f-4523-bfe1-5fd683efe35c",
   "metadata": {},
   "outputs": [],
   "source": []
  }
 ],
 "metadata": {
  "kernelspec": {
   "display_name": "Python 3 (ipykernel)",
   "language": "python",
   "name": "python3"
  },
  "language_info": {
   "codemirror_mode": {
    "name": "ipython",
    "version": 3
   },
   "file_extension": ".py",
   "mimetype": "text/x-python",
   "name": "python",
   "nbconvert_exporter": "python",
   "pygments_lexer": "ipython3",
   "version": "3.11.4"
  }
 },
 "nbformat": 4,
 "nbformat_minor": 5
}
