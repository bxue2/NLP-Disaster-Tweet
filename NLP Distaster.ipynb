{
 "cells": [
  {
   "cell_type": "code",
   "execution_count": 14,
   "id": "b44fb9ff-3e99-42a8-98d8-cfe143a2d36a",
   "metadata": {},
   "outputs": [],
   "source": [
    "import numpy as np\n",
    "import pandas as pd\n",
    "import seaborn as sns\n",
    "import sklearn\n",
    "import matplotlib.pyplot as plt\n",
    "\n",
    "import tensorflow as tf\n",
    "from tensorflow.keras.models import Sequential\n",
    "from tensorflow.keras.layers import Embedding, LSTM, Dense, Dropout, Bidirectional"
   ]
  },
  {
   "cell_type": "markdown",
   "id": "e6d11f3c-8f8f-4fe0-8f33-f775048bc600",
   "metadata": {},
   "source": [
    "### Week 4: NLP with Disaster Tweets"
   ]
  },
  {
   "cell_type": "markdown",
   "id": "7e96c203-4929-42fa-be31-499781b2af83",
   "metadata": {},
   "source": [
    "#### Problem\n",
    "This project will be looking at various Tweets from the social media platform Twitter/X, and building a Natural Language Processing Model to identify whether a tweet is indicating a disaster occurence or not. This project will use data from https://www.kaggle.com/c/nlp-getting-started/overview, using training data labeled with text, keywords, location, and whether or not it's a real disaster or not."
   ]
  },
  {
   "cell_type": "markdown",
   "id": "a29779fb-ebde-4499-ade6-c9962bb099a1",
   "metadata": {},
   "source": [
    "#### EDA\n",
    "Show a few visualizations like histograms. Describe any data cleaning procedures. Based on your EDA, what is your plan of analysis? \n",
    "\n",
    "First starting out by importing the CSVs and taking a look at the training data."
   ]
  },
  {
   "cell_type": "code",
   "execution_count": 10,
   "id": "eafa63d3-fbbd-4840-b627-b43d35a7c6a5",
   "metadata": {},
   "outputs": [
    {
     "name": "stdout",
     "output_type": "stream",
     "text": [
      "<class 'pandas.core.frame.DataFrame'>\n",
      "RangeIndex: 7613 entries, 0 to 7612\n",
      "Data columns (total 5 columns):\n",
      " #   Column    Non-Null Count  Dtype \n",
      "---  ------    --------------  ----- \n",
      " 0   id        7613 non-null   int64 \n",
      " 1   keyword   7552 non-null   object\n",
      " 2   location  5080 non-null   object\n",
      " 3   text      7613 non-null   object\n",
      " 4   target    7613 non-null   int64 \n",
      "dtypes: int64(2), object(3)\n",
      "memory usage: 297.5+ KB\n",
      "None\n",
      "Columns:  Index(['id', 'keyword', 'location', 'text', 'target'], dtype='object')\n",
      "Training data shape:  (7613, 5)\n"
     ]
    },
    {
     "data": {
      "text/html": [
       "<div>\n",
       "<style scoped>\n",
       "    .dataframe tbody tr th:only-of-type {\n",
       "        vertical-align: middle;\n",
       "    }\n",
       "\n",
       "    .dataframe tbody tr th {\n",
       "        vertical-align: top;\n",
       "    }\n",
       "\n",
       "    .dataframe thead th {\n",
       "        text-align: right;\n",
       "    }\n",
       "</style>\n",
       "<table border=\"1\" class=\"dataframe\">\n",
       "  <thead>\n",
       "    <tr style=\"text-align: right;\">\n",
       "      <th></th>\n",
       "      <th>id</th>\n",
       "      <th>keyword</th>\n",
       "      <th>location</th>\n",
       "      <th>text</th>\n",
       "      <th>target</th>\n",
       "    </tr>\n",
       "  </thead>\n",
       "  <tbody>\n",
       "    <tr>\n",
       "      <th>0</th>\n",
       "      <td>1</td>\n",
       "      <td>NaN</td>\n",
       "      <td>NaN</td>\n",
       "      <td>Our Deeds are the Reason of this #earthquake M...</td>\n",
       "      <td>1</td>\n",
       "    </tr>\n",
       "    <tr>\n",
       "      <th>1</th>\n",
       "      <td>4</td>\n",
       "      <td>NaN</td>\n",
       "      <td>NaN</td>\n",
       "      <td>Forest fire near La Ronge Sask. Canada</td>\n",
       "      <td>1</td>\n",
       "    </tr>\n",
       "    <tr>\n",
       "      <th>2</th>\n",
       "      <td>5</td>\n",
       "      <td>NaN</td>\n",
       "      <td>NaN</td>\n",
       "      <td>All residents asked to 'shelter in place' are ...</td>\n",
       "      <td>1</td>\n",
       "    </tr>\n",
       "    <tr>\n",
       "      <th>3</th>\n",
       "      <td>6</td>\n",
       "      <td>NaN</td>\n",
       "      <td>NaN</td>\n",
       "      <td>13,000 people receive #wildfires evacuation or...</td>\n",
       "      <td>1</td>\n",
       "    </tr>\n",
       "    <tr>\n",
       "      <th>4</th>\n",
       "      <td>7</td>\n",
       "      <td>NaN</td>\n",
       "      <td>NaN</td>\n",
       "      <td>Just got sent this photo from Ruby #Alaska as ...</td>\n",
       "      <td>1</td>\n",
       "    </tr>\n",
       "  </tbody>\n",
       "</table>\n",
       "</div>"
      ],
      "text/plain": [
       "   id keyword location                                               text  \\\n",
       "0   1     NaN      NaN  Our Deeds are the Reason of this #earthquake M...   \n",
       "1   4     NaN      NaN             Forest fire near La Ronge Sask. Canada   \n",
       "2   5     NaN      NaN  All residents asked to 'shelter in place' are ...   \n",
       "3   6     NaN      NaN  13,000 people receive #wildfires evacuation or...   \n",
       "4   7     NaN      NaN  Just got sent this photo from Ruby #Alaska as ...   \n",
       "\n",
       "   target  \n",
       "0       1  \n",
       "1       1  \n",
       "2       1  \n",
       "3       1  \n",
       "4       1  "
      ]
     },
     "execution_count": 10,
     "metadata": {},
     "output_type": "execute_result"
    }
   ],
   "source": [
    "train_df = pd.read_csv('nlp-getting-started/train.csv')\n",
    "test_df = pd.read_csv('nlp-getting-started/test.csv')\n",
    "submit_df = pd.read_csv('nlp-getting-started/sample_submission.csv')\n",
    "\n",
    "print(train_df.info())\n",
    "print(\"Columns: \", train_df.columns)\n",
    "print(\"Training data shape: \", train_df.shape)\n",
    "train_df.head()"
   ]
  },
  {
   "cell_type": "markdown",
   "id": "df11a852-aa00-49e7-9323-33ea5ad3ce88",
   "metadata": {},
   "source": [
    "Looking at the data from train_df.info(), there's 7613 total entries with 5 columns in the data set, but 2533 of them are missing location data, and 61 of them are missing keywords. \n",
    "\n",
    "Looking at the test data, missing location/keyword data is a regular occurence, so I'll likely want to keep entries with missing info during training still, but it's worth keeping in mind.  \n",
    "\n",
    "### Maybe use fillna to fill null with ''?"
   ]
  },
  {
   "cell_type": "code",
   "execution_count": 6,
   "id": "e09aaccc-8e58-4ccf-923e-69a88191df2f",
   "metadata": {},
   "outputs": [
    {
     "name": "stdout",
     "output_type": "stream",
     "text": [
      "<class 'pandas.core.frame.DataFrame'>\n",
      "RangeIndex: 3263 entries, 0 to 3262\n",
      "Data columns (total 4 columns):\n",
      " #   Column    Non-Null Count  Dtype \n",
      "---  ------    --------------  ----- \n",
      " 0   id        3263 non-null   int64 \n",
      " 1   keyword   3237 non-null   object\n",
      " 2   location  2158 non-null   object\n",
      " 3   text      3263 non-null   object\n",
      "dtypes: int64(1), object(3)\n",
      "memory usage: 102.1+ KB\n",
      "None\n"
     ]
    }
   ],
   "source": [
    "print(test_df.info())"
   ]
  },
  {
   "cell_type": "markdown",
   "id": "bd4506e7-cd05-4d8c-8fe9-8feff86b006d",
   "metadata": {},
   "source": [
    "I also want to check the balance of the data to see if it's heavily skewed towards either label. Looking at the graph, there's about a 1000 more 0s than 1s, but it's not overly imbalanced, so I'll keep it as is."
   ]
  },
  {
   "cell_type": "code",
   "execution_count": 11,
   "id": "57d5addf-ce62-47bc-9481-889af9b00170",
   "metadata": {},
   "outputs": [
    {
     "name": "stdout",
     "output_type": "stream",
     "text": [
      "target\n",
      "0    4342\n",
      "1    3271\n",
      "Name: count, dtype: int64\n"
     ]
    },
    {
     "data": {
      "image/png": "[encoded data removed]",
      "text/plain": [
       "<Figure size 640x480 with 1 Axes>"
      ]
     },
     "metadata": {},
     "output_type": "display_data"
    }
   ],
   "source": [
    "print(train_df['target'].value_counts())\n",
    "sns.countplot(x='target', data=train_df)\n",
    "plt.title('Target Label Distribution')\n",
    "plt.show()"
   ]
  },
  {
   "cell_type": "code",
   "execution_count": 16,
   "id": "3f8029c9-cd5c-49ef-95bf-8dc38a00a514",
   "metadata": {},
   "outputs": [
    {
     "name": "stdout",
     "output_type": "stream",
     "text": [
      "Clean text example: deed reason earthquake allah forgive\n"
     ]
    }
   ],
   "source": [
    "# Preprocessing text\n",
    "import spacy\n",
    "\n",
    "nlp = spacy.load(\"en_core_web_sm\")\n",
    "\n",
    "def text_preprocess(text):\n",
    "    # Lower casing\n",
    "    doc = nlp(text.lower())\n",
    "\n",
    "    # Removing Punctuation, Stop words, and Tokenizing\n",
    "    tokens = [token.lemma_ for token in doc if (not token.is_stop and not token.is_punct and not token.is_digit)] \n",
    "\n",
    "    return ' '.join(tokens)\n",
    "\n",
    "# Do I actually want to remove stop words?\n",
    "train_df['clean_text'] = train_df['text'].apply(text_preprocess)\n",
    "test_df['clean_text'] = test_df['text'].apply(text_preprocess)\n",
    "print(\"Clean text example: \" + train_df['clean_text'][0])"
   ]
  },
  {
   "cell_type": "markdown",
   "id": "32cf94f3-dc94-43a0-a500-730e84e3e470",
   "metadata": {},
   "source": [
    "We want to preprocess the data a bit and split the training data into training and validation sets. I'll split 0/1 individually so there's an even distribution of 0/1s in the test and validation set."
   ]
  },
  {
   "cell_type": "code",
   "execution_count": null,
   "id": "2c41d856-8d2d-4283-8c9d-62fdd0eda5b3",
   "metadata": {},
   "outputs": [],
   "source": [
    "# Splitting sets\n",
    "from sklearn.model_selection import train_test_split\n",
    "\n",
    "zeros = train_df[train_df['target'] == '0']\n",
    "ones = train_df[train_df['target'] == '1']\n",
    "\n",
    "train0, val0 = train_test_split(zeros, test_size=0.3, random_state=10)\n",
    "train1, val1 = train_test_split(ones, test_size=0.3, random_state=10)\n",
    "\n",
    "train_set = pd.concat([train0, train1])\n",
    "val_set = pd.concat([val0, val1])"
   ]
  },
  {
   "cell_type": "markdown",
   "id": "5bb789ce-fc36-4d55-abda-41e36cf029ab",
   "metadata": {},
   "source": [
    "#### Model Architecture\n",
    "\n",
    "Describe your model architecture and reasoning for why you believe that specific architecture would be suitable for this problem. \n",
    "\n",
    "Since we did not learn NLP-specific techniques such as word embeddings in the lectures, we recommend looking at Kaggle tutorials, discussion boards, and code examples posted for this challenge.  You can use any resources needed, but make sure you “demonstrate” you understood by including explanations in your own words. Also importantly, please have a reference list at the end of the report.  \n",
    "\n",
    "There are many methods to process texts to matrix form (word embedding), including TF-IDF, GloVe, Word2Vec, etc. Pick a strategy and process the raw texts to word embedding. Briefly explain the method(s) and how they work in your own words.\n",
    "\n",
    "Build and train your sequential neural network model (You may use any RNN family neural network, including advanced architectures LSTM, GRU, bidirectional RNN, etc.). "
   ]
  },
  {
   "cell_type": "code",
   "execution_count": 15,
   "id": "08685cfd-ef4d-498b-8d6a-e3a9208dfbff",
   "metadata": {},
   "outputs": [
    {
     "ename": "NameError",
     "evalue": "name 'MAX_WORDS' is not defined",
     "output_type": "error",
     "traceback": [
      "\u001b[0;31m---------------------------------------------------------------------------\u001b[0m",
      "\u001b[0;31mNameError\u001b[0m                                 Traceback (most recent call last)",
      "Cell \u001b[0;32mIn[15], line 14\u001b[0m\n\u001b[1;32m      3\u001b[0m     model \u001b[38;5;241m=\u001b[39m Sequential([\n\u001b[1;32m      4\u001b[0m         Embedding(MAX_WORDS, EMBEDDING_DIM, input_length\u001b[38;5;241m=\u001b[39mMAX_LEN),\n\u001b[1;32m      5\u001b[0m         Bidirectional(LSTM(\u001b[38;5;241m64\u001b[39m, return_sequence\u001b[38;5;241m=\u001b[39m\u001b[38;5;28;01mTrue\u001b[39;00m)),\n\u001b[0;32m   (...)\u001b[0m\n\u001b[1;32m     10\u001b[0m         Dense(\u001b[38;5;241m1\u001b[39m, activation\u001b[38;5;241m=\u001b[39m\u001b[38;5;124m'\u001b[39m\u001b[38;5;124msigmoid\u001b[39m\u001b[38;5;124m'\u001b[39m)\n\u001b[1;32m     11\u001b[0m     ])\n\u001b[1;32m     12\u001b[0m     \u001b[38;5;28;01mreturn\u001b[39;00m model\n\u001b[0;32m---> 14\u001b[0m basic_model \u001b[38;5;241m=\u001b[39m \u001b[43mbasic_RNN\u001b[49m\u001b[43m(\u001b[49m\u001b[43m)\u001b[49m\n\u001b[1;32m     15\u001b[0m basic_model\u001b[38;5;241m.\u001b[39msummary()\n",
      "Cell \u001b[0;32mIn[15], line 4\u001b[0m, in \u001b[0;36mbasic_RNN\u001b[0;34m()\u001b[0m\n\u001b[1;32m      2\u001b[0m \u001b[38;5;28;01mdef\u001b[39;00m \u001b[38;5;21mbasic_RNN\u001b[39m():\n\u001b[1;32m      3\u001b[0m     model \u001b[38;5;241m=\u001b[39m Sequential([\n\u001b[0;32m----> 4\u001b[0m         Embedding(\u001b[43mMAX_WORDS\u001b[49m, EMBEDDING_DIM, input_length\u001b[38;5;241m=\u001b[39mMAX_LEN),\n\u001b[1;32m      5\u001b[0m         Bidirectional(LSTM(\u001b[38;5;241m64\u001b[39m, return_sequence\u001b[38;5;241m=\u001b[39m\u001b[38;5;28;01mTrue\u001b[39;00m)),\n\u001b[1;32m      6\u001b[0m         Dropout(\u001b[38;5;241m0.5\u001b[39m),\n\u001b[1;32m      7\u001b[0m         Bidirectional(LSTM(\u001b[38;5;241m32\u001b[39m)),\n\u001b[1;32m      8\u001b[0m         Dense(\u001b[38;5;241m64\u001b[39m, activation\u001b[38;5;241m=\u001b[39m\u001b[38;5;124m'\u001b[39m\u001b[38;5;124mrelu\u001b[39m\u001b[38;5;124m'\u001b[39m),\n\u001b[1;32m      9\u001b[0m         Dropout(\u001b[38;5;241m0.5\u001b[39m),\n\u001b[1;32m     10\u001b[0m         Dense(\u001b[38;5;241m1\u001b[39m, activation\u001b[38;5;241m=\u001b[39m\u001b[38;5;124m'\u001b[39m\u001b[38;5;124msigmoid\u001b[39m\u001b[38;5;124m'\u001b[39m)\n\u001b[1;32m     11\u001b[0m     ])\n\u001b[1;32m     12\u001b[0m     \u001b[38;5;28;01mreturn\u001b[39;00m model\n",
      "\u001b[0;31mNameError\u001b[0m: name 'MAX_WORDS' is not defined"
     ]
    }
   ],
   "source": [
    "# Creating basic architecture\n",
    "MAX_WORDS = 20000\n",
    "# EMBEDDING_DIM = 128\n",
    "\n",
    "def basic_RNN():\n",
    "    model = Sequential([\n",
    "        Embedding(MAX_WORDS, 128, input_length=MAX_LEN),\n",
    "        Bidirectional(LSTM(64, return_sequence=True)),\n",
    "        Dropout(0.5),\n",
    "        Bidirectional(LSTM(32)),\n",
    "        Dense(64, activation='relu'),\n",
    "        Dropout(0.5),\n",
    "        Dense(1, activation='sigmoid')\n",
    "    ])\n",
    "    return model\n",
    "\n",
    "basic_model = basic_RNN()\n",
    "basic_model.summary()"
   ]
  },
  {
   "cell_type": "code",
   "execution_count": null,
   "id": "3d6aa755-8b91-4dbf-b75c-e5f262e6b1e2",
   "metadata": {},
   "outputs": [],
   "source": [
    "#"
   ]
  },
  {
   "cell_type": "code",
   "execution_count": null,
   "id": "19bccc22-2bcc-460a-bf9e-990e68dc19ce",
   "metadata": {},
   "outputs": [],
   "source": []
  },
  {
   "cell_type": "markdown",
   "id": "b8b38939-689f-409d-b88b-254e350b43ee",
   "metadata": {},
   "source": [
    "#### Results and Analysis\n",
    "Run hyperparameter tuning, try different architectures for comparison, apply techniques to improve training or performance, and discuss what helped.\n",
    "\n",
    "Includes results with tables and figures. There is an analysis of why or why not something worked well, troubleshooting, and a hyperparameter optimization procedure summary."
   ]
  },
  {
   "cell_type": "markdown",
   "id": "83b5e7c7-1995-4957-ac0b-1e5064051db5",
   "metadata": {},
   "source": [
    "#### Conclusion\n",
    "Discuss and interpret results as well as learnings and takeaways. What did and did not help improve the performance of your models? What improvements could you try in the future?"
   ]
  },
  {
   "cell_type": "code",
   "execution_count": null,
   "id": "b96a9a94-c858-401c-bc95-29696b35240b",
   "metadata": {},
   "outputs": [],
   "source": []
  }
 ],
 "metadata": {
  "kernelspec": {
   "display_name": "Python 3 (ipykernel)",
   "language": "python",
   "name": "python3"
  },
  "language_info": {
   "codemirror_mode": {
    "name": "ipython",
    "version": 3
   },
   "file_extension": ".py",
   "mimetype": "text/x-python",
   "name": "python",
   "nbconvert_exporter": "python",
   "pygments_lexer": "ipython3",
   "version": "3.11.4"
  }
 },
 "nbformat": 4,
 "nbformat_minor": 5
}
